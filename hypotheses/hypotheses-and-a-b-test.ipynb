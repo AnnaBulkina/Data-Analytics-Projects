{
 "cells": [
  {
   "cell_type": "markdown",
   "metadata": {},
   "source": [
    "# Приоритизация гипотез и анализ результатов A/B-теста"
   ]
  },
  {
   "cell_type": "markdown",
   "metadata": {},
   "source": [
    "Был подготовлен список гипотез для увеличения выручки интернет-магазина. Необходимо приоритизировать гипотезы, запустить A/B-тест и проанализировать результаты.\n",
    "\n",
    "**Цели исследования:**\n",
    "1. Приоритизировать гипотезы\n",
    "2. Проанализировать результаты A/B-теста\n",
    "\n",
    "**Задачи по приоритизации гипотез:**\n",
    "1. Приоритизировать гипотезы на основе фреймворка ICE.\n",
    "2. Приоритизировать гипотезы на основе фреймворка RICE.\n",
    "3. Сравнить результаты приоритизации гипотез при применении RICE и ICE.\n",
    "\n",
    "**Задачи по анализу результатов A/B-теста:**\n",
    "1. Проанализировать результаты A/B теста на предмет наличия аномалий и всплесков.\n",
    "2. Проанализировать статистическую значимость различий в среднем чеке и количестве заказов по группах по \"сырым\" данным.\n",
    "3. Проанализировать статистическую значимость различий в среднем чеке и количестве заказов по группах по \"очищенным\" данным.\n",
    "4. Принять решение по результатам теста.\n",
    "\n",
    "**Описание данных:**\n",
    "\n",
    "Предоставлены данные:\n",
    "- о гипотезах, которые нужно приоритизировать,\n",
    "- о заказах, сделанных в период и в рамках проведения A/B теста,\n",
    "- о количестве пользователей в период и в рамках проведения A/B теста.\n",
    "\n",
    "**Показатели:**\n",
    "\n",
    "Структура файла hypothesis.csv:\n",
    "- Hypothesis — краткое описание гипотезы;\n",
    "- Reach — охват пользователей по 10-балльной шкале;\n",
    "- Impact — влияние на пользователей по 10-балльной шкале;\n",
    "- Confidence — уверенность в гипотезе по 10-балльной шкале;\n",
    "- Efforts — затраты ресурсов на проверку гипотезы по 10-балльной шкале. Чем больше значение Efforts, тем дороже проверка гипотезы.\n",
    "\n",
    "Структура файла orders.csv:\n",
    "- transactionId — идентификатор заказа;\n",
    "- visitorId — идентификатор пользователя, совершившего заказ;\n",
    "- date — дата, когда был совершён заказ;\n",
    "- revenue — выручка заказа;\n",
    "- group — группа A/B-теста, в которую попал заказ.\n",
    "\n",
    "Структура файла visitors.csv:\n",
    "- date — дата;\n",
    "- group — группа A/B-теста;\n",
    "- visitors — количество пользователей в указанную дату в указанной группе A/B-теста."
   ]
  },
  {
   "cell_type": "code",
   "execution_count": 1,
   "metadata": {},
   "outputs": [],
   "source": [
    "import scipy.stats as stats\n",
    "import pandas as pd\n",
    "import datetime as dt\n",
    "import numpy as np\n",
    "import matplotlib.pyplot as plt\n",
    "from pandas.plotting import register_matplotlib_converters\n",
    "import warnings"
   ]
  },
  {
   "cell_type": "markdown",
   "metadata": {},
   "source": [
    "## Приоритизация гипотез"
   ]
  },
  {
   "cell_type": "markdown",
   "metadata": {},
   "source": [
    "Сначала посмотрим на имеющиеся данные."
   ]
  },
  {
   "cell_type": "code",
   "execution_count": 2,
   "metadata": {},
   "outputs": [
    {
     "data": {
      "text/html": [
       "<div>\n",
       "<style scoped>\n",
       "    .dataframe tbody tr th:only-of-type {\n",
       "        vertical-align: middle;\n",
       "    }\n",
       "\n",
       "    .dataframe tbody tr th {\n",
       "        vertical-align: top;\n",
       "    }\n",
       "\n",
       "    .dataframe thead th {\n",
       "        text-align: right;\n",
       "    }\n",
       "</style>\n",
       "<table border=\"1\" class=\"dataframe\">\n",
       "  <thead>\n",
       "    <tr style=\"text-align: right;\">\n",
       "      <th></th>\n",
       "      <th>Hypothesis</th>\n",
       "      <th>Reach</th>\n",
       "      <th>Impact</th>\n",
       "      <th>Confidence</th>\n",
       "      <th>Efforts</th>\n",
       "    </tr>\n",
       "  </thead>\n",
       "  <tbody>\n",
       "    <tr>\n",
       "      <th>0</th>\n",
       "      <td>Добавить два новых канала привлечения трафика, что позволит привлекать на 30% больше пользователей</td>\n",
       "      <td>3</td>\n",
       "      <td>10</td>\n",
       "      <td>8</td>\n",
       "      <td>6</td>\n",
       "    </tr>\n",
       "    <tr>\n",
       "      <th>1</th>\n",
       "      <td>Запустить собственную службу доставки, что сократит срок доставки заказов</td>\n",
       "      <td>2</td>\n",
       "      <td>5</td>\n",
       "      <td>4</td>\n",
       "      <td>10</td>\n",
       "    </tr>\n",
       "    <tr>\n",
       "      <th>2</th>\n",
       "      <td>Добавить блоки рекомендаций товаров на сайт интернет магазина, чтобы повысить конверсию и средний чек заказа</td>\n",
       "      <td>8</td>\n",
       "      <td>3</td>\n",
       "      <td>7</td>\n",
       "      <td>3</td>\n",
       "    </tr>\n",
       "    <tr>\n",
       "      <th>3</th>\n",
       "      <td>Изменить структура категорий, что увеличит конверсию, т.к. пользователи быстрее найдут нужный товар</td>\n",
       "      <td>8</td>\n",
       "      <td>3</td>\n",
       "      <td>3</td>\n",
       "      <td>8</td>\n",
       "    </tr>\n",
       "    <tr>\n",
       "      <th>4</th>\n",
       "      <td>Изменить цвет фона главной страницы, чтобы увеличить вовлеченность пользователей</td>\n",
       "      <td>3</td>\n",
       "      <td>1</td>\n",
       "      <td>1</td>\n",
       "      <td>1</td>\n",
       "    </tr>\n",
       "    <tr>\n",
       "      <th>5</th>\n",
       "      <td>Добавить страницу отзывов клиентов о магазине, что позволит увеличить количество заказов</td>\n",
       "      <td>3</td>\n",
       "      <td>2</td>\n",
       "      <td>2</td>\n",
       "      <td>3</td>\n",
       "    </tr>\n",
       "    <tr>\n",
       "      <th>6</th>\n",
       "      <td>Показать на главной странице баннеры с актуальными акциями и распродажами, чтобы увеличить конверсию</td>\n",
       "      <td>5</td>\n",
       "      <td>3</td>\n",
       "      <td>8</td>\n",
       "      <td>3</td>\n",
       "    </tr>\n",
       "    <tr>\n",
       "      <th>7</th>\n",
       "      <td>Добавить форму подписки на все основные страницы, чтобы собрать базу клиентов для email-рассылок</td>\n",
       "      <td>10</td>\n",
       "      <td>7</td>\n",
       "      <td>8</td>\n",
       "      <td>5</td>\n",
       "    </tr>\n",
       "    <tr>\n",
       "      <th>8</th>\n",
       "      <td>Запустить акцию, дающую скидку на товар в день рождения</td>\n",
       "      <td>1</td>\n",
       "      <td>9</td>\n",
       "      <td>9</td>\n",
       "      <td>5</td>\n",
       "    </tr>\n",
       "  </tbody>\n",
       "</table>\n",
       "</div>"
      ],
      "text/plain": [
       "                                                                                                     Hypothesis  \\\n",
       "0            Добавить два новых канала привлечения трафика, что позволит привлекать на 30% больше пользователей   \n",
       "1                                     Запустить собственную службу доставки, что сократит срок доставки заказов   \n",
       "2  Добавить блоки рекомендаций товаров на сайт интернет магазина, чтобы повысить конверсию и средний чек заказа   \n",
       "3           Изменить структура категорий, что увеличит конверсию, т.к. пользователи быстрее найдут нужный товар   \n",
       "4                              Изменить цвет фона главной страницы, чтобы увеличить вовлеченность пользователей   \n",
       "5                      Добавить страницу отзывов клиентов о магазине, что позволит увеличить количество заказов   \n",
       "6          Показать на главной странице баннеры с актуальными акциями и распродажами, чтобы увеличить конверсию   \n",
       "7              Добавить форму подписки на все основные страницы, чтобы собрать базу клиентов для email-рассылок   \n",
       "8                                                       Запустить акцию, дающую скидку на товар в день рождения   \n",
       "\n",
       "   Reach  Impact  Confidence  Efforts  \n",
       "0      3      10           8        6  \n",
       "1      2       5           4       10  \n",
       "2      8       3           7        3  \n",
       "3      8       3           3        8  \n",
       "4      3       1           1        1  \n",
       "5      3       2           2        3  \n",
       "6      5       3           8        3  \n",
       "7     10       7           8        5  \n",
       "8      1       9           9        5  "
      ]
     },
     "execution_count": 2,
     "metadata": {},
     "output_type": "execute_result"
    }
   ],
   "source": [
    "try:\n",
    "    hypothesis = pd.read_csv('')\n",
    "except:\n",
    "    hypothesis = pd.read_csv('')\n",
    "\n",
    "pd.set_option('display.max_colwidth', None)\n",
    "hypothesis"
   ]
  },
  {
   "cell_type": "markdown",
   "metadata": {},
   "source": [
    "### Приоритизация гипотез на основе фреймворка ICE"
   ]
  },
  {
   "cell_type": "code",
   "execution_count": 3,
   "metadata": {},
   "outputs": [
    {
     "data": {
      "text/html": [
       "<div>\n",
       "<style scoped>\n",
       "    .dataframe tbody tr th:only-of-type {\n",
       "        vertical-align: middle;\n",
       "    }\n",
       "\n",
       "    .dataframe tbody tr th {\n",
       "        vertical-align: top;\n",
       "    }\n",
       "\n",
       "    .dataframe thead th {\n",
       "        text-align: right;\n",
       "    }\n",
       "</style>\n",
       "<table border=\"1\" class=\"dataframe\">\n",
       "  <thead>\n",
       "    <tr style=\"text-align: right;\">\n",
       "      <th></th>\n",
       "      <th>Hypothesis</th>\n",
       "      <th>ICE</th>\n",
       "    </tr>\n",
       "  </thead>\n",
       "  <tbody>\n",
       "    <tr>\n",
       "      <th>8</th>\n",
       "      <td>Запустить акцию, дающую скидку на товар в день рождения</td>\n",
       "      <td>16.20</td>\n",
       "    </tr>\n",
       "    <tr>\n",
       "      <th>0</th>\n",
       "      <td>Добавить два новых канала привлечения трафика, что позволит привлекать на 30% больше пользователей</td>\n",
       "      <td>13.33</td>\n",
       "    </tr>\n",
       "    <tr>\n",
       "      <th>7</th>\n",
       "      <td>Добавить форму подписки на все основные страницы, чтобы собрать базу клиентов для email-рассылок</td>\n",
       "      <td>11.20</td>\n",
       "    </tr>\n",
       "    <tr>\n",
       "      <th>6</th>\n",
       "      <td>Показать на главной странице баннеры с актуальными акциями и распродажами, чтобы увеличить конверсию</td>\n",
       "      <td>8.00</td>\n",
       "    </tr>\n",
       "    <tr>\n",
       "      <th>2</th>\n",
       "      <td>Добавить блоки рекомендаций товаров на сайт интернет магазина, чтобы повысить конверсию и средний чек заказа</td>\n",
       "      <td>7.00</td>\n",
       "    </tr>\n",
       "    <tr>\n",
       "      <th>1</th>\n",
       "      <td>Запустить собственную службу доставки, что сократит срок доставки заказов</td>\n",
       "      <td>2.00</td>\n",
       "    </tr>\n",
       "    <tr>\n",
       "      <th>5</th>\n",
       "      <td>Добавить страницу отзывов клиентов о магазине, что позволит увеличить количество заказов</td>\n",
       "      <td>1.33</td>\n",
       "    </tr>\n",
       "    <tr>\n",
       "      <th>3</th>\n",
       "      <td>Изменить структура категорий, что увеличит конверсию, т.к. пользователи быстрее найдут нужный товар</td>\n",
       "      <td>1.12</td>\n",
       "    </tr>\n",
       "    <tr>\n",
       "      <th>4</th>\n",
       "      <td>Изменить цвет фона главной страницы, чтобы увеличить вовлеченность пользователей</td>\n",
       "      <td>1.00</td>\n",
       "    </tr>\n",
       "  </tbody>\n",
       "</table>\n",
       "</div>"
      ],
      "text/plain": [
       "                                                                                                     Hypothesis  \\\n",
       "8                                                       Запустить акцию, дающую скидку на товар в день рождения   \n",
       "0            Добавить два новых канала привлечения трафика, что позволит привлекать на 30% больше пользователей   \n",
       "7              Добавить форму подписки на все основные страницы, чтобы собрать базу клиентов для email-рассылок   \n",
       "6          Показать на главной странице баннеры с актуальными акциями и распродажами, чтобы увеличить конверсию   \n",
       "2  Добавить блоки рекомендаций товаров на сайт интернет магазина, чтобы повысить конверсию и средний чек заказа   \n",
       "1                                     Запустить собственную службу доставки, что сократит срок доставки заказов   \n",
       "5                      Добавить страницу отзывов клиентов о магазине, что позволит увеличить количество заказов   \n",
       "3           Изменить структура категорий, что увеличит конверсию, т.к. пользователи быстрее найдут нужный товар   \n",
       "4                              Изменить цвет фона главной страницы, чтобы увеличить вовлеченность пользователей   \n",
       "\n",
       "     ICE  \n",
       "8  16.20  \n",
       "0  13.33  \n",
       "7  11.20  \n",
       "6   8.00  \n",
       "2   7.00  \n",
       "1   2.00  \n",
       "5   1.33  \n",
       "3   1.12  \n",
       "4   1.00  "
      ]
     },
     "execution_count": 3,
     "metadata": {},
     "output_type": "execute_result"
    }
   ],
   "source": [
    "hypothesis['ICE'] = round(hypothesis['Impact'] * hypothesis['Confidence'] / hypothesis['Efforts'], 2)\n",
    "\n",
    "hypothesis[['Hypothesis', 'ICE']].sort_values(by='ICE', ascending=False)"
   ]
  },
  {
   "cell_type": "markdown",
   "metadata": {},
   "source": [
    "### Приоритизация гипотез на основе фреймворка RICE"
   ]
  },
  {
   "cell_type": "code",
   "execution_count": 4,
   "metadata": {},
   "outputs": [
    {
     "data": {
      "text/html": [
       "<div>\n",
       "<style scoped>\n",
       "    .dataframe tbody tr th:only-of-type {\n",
       "        vertical-align: middle;\n",
       "    }\n",
       "\n",
       "    .dataframe tbody tr th {\n",
       "        vertical-align: top;\n",
       "    }\n",
       "\n",
       "    .dataframe thead th {\n",
       "        text-align: right;\n",
       "    }\n",
       "</style>\n",
       "<table border=\"1\" class=\"dataframe\">\n",
       "  <thead>\n",
       "    <tr style=\"text-align: right;\">\n",
       "      <th></th>\n",
       "      <th>Hypothesis</th>\n",
       "      <th>RICE</th>\n",
       "    </tr>\n",
       "  </thead>\n",
       "  <tbody>\n",
       "    <tr>\n",
       "      <th>7</th>\n",
       "      <td>Добавить форму подписки на все основные страницы, чтобы собрать базу клиентов для email-рассылок</td>\n",
       "      <td>112.0</td>\n",
       "    </tr>\n",
       "    <tr>\n",
       "      <th>2</th>\n",
       "      <td>Добавить блоки рекомендаций товаров на сайт интернет магазина, чтобы повысить конверсию и средний чек заказа</td>\n",
       "      <td>56.0</td>\n",
       "    </tr>\n",
       "    <tr>\n",
       "      <th>0</th>\n",
       "      <td>Добавить два новых канала привлечения трафика, что позволит привлекать на 30% больше пользователей</td>\n",
       "      <td>40.0</td>\n",
       "    </tr>\n",
       "    <tr>\n",
       "      <th>6</th>\n",
       "      <td>Показать на главной странице баннеры с актуальными акциями и распродажами, чтобы увеличить конверсию</td>\n",
       "      <td>40.0</td>\n",
       "    </tr>\n",
       "    <tr>\n",
       "      <th>8</th>\n",
       "      <td>Запустить акцию, дающую скидку на товар в день рождения</td>\n",
       "      <td>16.2</td>\n",
       "    </tr>\n",
       "    <tr>\n",
       "      <th>3</th>\n",
       "      <td>Изменить структура категорий, что увеличит конверсию, т.к. пользователи быстрее найдут нужный товар</td>\n",
       "      <td>9.0</td>\n",
       "    </tr>\n",
       "    <tr>\n",
       "      <th>1</th>\n",
       "      <td>Запустить собственную службу доставки, что сократит срок доставки заказов</td>\n",
       "      <td>4.0</td>\n",
       "    </tr>\n",
       "    <tr>\n",
       "      <th>5</th>\n",
       "      <td>Добавить страницу отзывов клиентов о магазине, что позволит увеличить количество заказов</td>\n",
       "      <td>4.0</td>\n",
       "    </tr>\n",
       "    <tr>\n",
       "      <th>4</th>\n",
       "      <td>Изменить цвет фона главной страницы, чтобы увеличить вовлеченность пользователей</td>\n",
       "      <td>3.0</td>\n",
       "    </tr>\n",
       "  </tbody>\n",
       "</table>\n",
       "</div>"
      ],
      "text/plain": [
       "                                                                                                     Hypothesis  \\\n",
       "7              Добавить форму подписки на все основные страницы, чтобы собрать базу клиентов для email-рассылок   \n",
       "2  Добавить блоки рекомендаций товаров на сайт интернет магазина, чтобы повысить конверсию и средний чек заказа   \n",
       "0            Добавить два новых канала привлечения трафика, что позволит привлекать на 30% больше пользователей   \n",
       "6          Показать на главной странице баннеры с актуальными акциями и распродажами, чтобы увеличить конверсию   \n",
       "8                                                       Запустить акцию, дающую скидку на товар в день рождения   \n",
       "3           Изменить структура категорий, что увеличит конверсию, т.к. пользователи быстрее найдут нужный товар   \n",
       "1                                     Запустить собственную службу доставки, что сократит срок доставки заказов   \n",
       "5                      Добавить страницу отзывов клиентов о магазине, что позволит увеличить количество заказов   \n",
       "4                              Изменить цвет фона главной страницы, чтобы увеличить вовлеченность пользователей   \n",
       "\n",
       "    RICE  \n",
       "7  112.0  \n",
       "2   56.0  \n",
       "0   40.0  \n",
       "6   40.0  \n",
       "8   16.2  \n",
       "3    9.0  \n",
       "1    4.0  \n",
       "5    4.0  \n",
       "4    3.0  "
      ]
     },
     "execution_count": 4,
     "metadata": {},
     "output_type": "execute_result"
    }
   ],
   "source": [
    "hypothesis['RICE'] = round(hypothesis['Reach'] * hypothesis['Impact'] * hypothesis['Confidence'] / hypothesis['Efforts'], 2)\n",
    "\n",
    "hypothesis[['Hypothesis', 'RICE']].sort_values(by='RICE', ascending=False)"
   ]
  },
  {
   "cell_type": "markdown",
   "metadata": {},
   "source": [
    "### Сравнение и анализ результатов приоритизации"
   ]
  },
  {
   "cell_type": "markdown",
   "metadata": {},
   "source": [
    "После добавления параметра охвата пользователей приоритет гипотез изменился. В итоге самый высокий приоритет получила гипотеза с наибольшим параметром Reach - \"Добавить форму подписки на все основные страницы, чтобы собрать базу клиентов для email-рассылок\".\n",
    "\n",
    "Также можно заметить, что 4 гипотезы с наименьшим приоритетом остались прежними: что во фреймворке ICE, что во фреймворке RICE."
   ]
  },
  {
   "cell_type": "markdown",
   "metadata": {},
   "source": [
    "## Анализ A/B-теста"
   ]
  },
  {
   "cell_type": "markdown",
   "metadata": {},
   "source": [
    "Сначала посмотрим на имеющиеся данные."
   ]
  },
  {
   "cell_type": "code",
   "execution_count": 5,
   "metadata": {},
   "outputs": [
    {
     "data": {
      "text/html": [
       "<div>\n",
       "<style scoped>\n",
       "    .dataframe tbody tr th:only-of-type {\n",
       "        vertical-align: middle;\n",
       "    }\n",
       "\n",
       "    .dataframe tbody tr th {\n",
       "        vertical-align: top;\n",
       "    }\n",
       "\n",
       "    .dataframe thead th {\n",
       "        text-align: right;\n",
       "    }\n",
       "</style>\n",
       "<table border=\"1\" class=\"dataframe\">\n",
       "  <thead>\n",
       "    <tr style=\"text-align: right;\">\n",
       "      <th></th>\n",
       "      <th>transactionId</th>\n",
       "      <th>visitorId</th>\n",
       "      <th>date</th>\n",
       "      <th>revenue</th>\n",
       "      <th>group</th>\n",
       "    </tr>\n",
       "  </thead>\n",
       "  <tbody>\n",
       "    <tr>\n",
       "      <th>0</th>\n",
       "      <td>3667963787</td>\n",
       "      <td>3312258926</td>\n",
       "      <td>2019-08-15</td>\n",
       "      <td>1650</td>\n",
       "      <td>B</td>\n",
       "    </tr>\n",
       "    <tr>\n",
       "      <th>1</th>\n",
       "      <td>2804400009</td>\n",
       "      <td>3642806036</td>\n",
       "      <td>2019-08-15</td>\n",
       "      <td>730</td>\n",
       "      <td>B</td>\n",
       "    </tr>\n",
       "    <tr>\n",
       "      <th>2</th>\n",
       "      <td>2961555356</td>\n",
       "      <td>4069496402</td>\n",
       "      <td>2019-08-15</td>\n",
       "      <td>400</td>\n",
       "      <td>A</td>\n",
       "    </tr>\n",
       "    <tr>\n",
       "      <th>3</th>\n",
       "      <td>3797467345</td>\n",
       "      <td>1196621759</td>\n",
       "      <td>2019-08-15</td>\n",
       "      <td>9759</td>\n",
       "      <td>B</td>\n",
       "    </tr>\n",
       "    <tr>\n",
       "      <th>4</th>\n",
       "      <td>2282983706</td>\n",
       "      <td>2322279887</td>\n",
       "      <td>2019-08-15</td>\n",
       "      <td>2308</td>\n",
       "      <td>B</td>\n",
       "    </tr>\n",
       "  </tbody>\n",
       "</table>\n",
       "</div>"
      ],
      "text/plain": [
       "   transactionId   visitorId        date  revenue group\n",
       "0     3667963787  3312258926  2019-08-15     1650     B\n",
       "1     2804400009  3642806036  2019-08-15      730     B\n",
       "2     2961555356  4069496402  2019-08-15      400     A\n",
       "3     3797467345  1196621759  2019-08-15     9759     B\n",
       "4     2282983706  2322279887  2019-08-15     2308     B"
      ]
     },
     "execution_count": 5,
     "metadata": {},
     "output_type": "execute_result"
    }
   ],
   "source": [
    "try:\n",
    "    orders = pd.read_csv('/datasets/orders.csv')\n",
    "    visitors = pd.read_csv('/datasets/visitors.csv')\n",
    "except:\n",
    "    orders = pd.read_csv('https://code.s3.yandex.net/datasets/orders.csv')\n",
    "    visitors = pd.read_csv('https://code.s3.yandex.net/datasets/visitors.csv')\n",
    "    \n",
    "orders.head()"
   ]
  },
  {
   "cell_type": "code",
   "execution_count": 6,
   "metadata": {},
   "outputs": [
    {
     "data": {
      "text/html": [
       "<div>\n",
       "<style scoped>\n",
       "    .dataframe tbody tr th:only-of-type {\n",
       "        vertical-align: middle;\n",
       "    }\n",
       "\n",
       "    .dataframe tbody tr th {\n",
       "        vertical-align: top;\n",
       "    }\n",
       "\n",
       "    .dataframe thead th {\n",
       "        text-align: right;\n",
       "    }\n",
       "</style>\n",
       "<table border=\"1\" class=\"dataframe\">\n",
       "  <thead>\n",
       "    <tr style=\"text-align: right;\">\n",
       "      <th></th>\n",
       "      <th>date</th>\n",
       "      <th>group</th>\n",
       "      <th>visitors</th>\n",
       "    </tr>\n",
       "  </thead>\n",
       "  <tbody>\n",
       "    <tr>\n",
       "      <th>0</th>\n",
       "      <td>2019-08-01</td>\n",
       "      <td>A</td>\n",
       "      <td>719</td>\n",
       "    </tr>\n",
       "    <tr>\n",
       "      <th>1</th>\n",
       "      <td>2019-08-02</td>\n",
       "      <td>A</td>\n",
       "      <td>619</td>\n",
       "    </tr>\n",
       "    <tr>\n",
       "      <th>2</th>\n",
       "      <td>2019-08-03</td>\n",
       "      <td>A</td>\n",
       "      <td>507</td>\n",
       "    </tr>\n",
       "    <tr>\n",
       "      <th>3</th>\n",
       "      <td>2019-08-04</td>\n",
       "      <td>A</td>\n",
       "      <td>717</td>\n",
       "    </tr>\n",
       "    <tr>\n",
       "      <th>4</th>\n",
       "      <td>2019-08-05</td>\n",
       "      <td>A</td>\n",
       "      <td>756</td>\n",
       "    </tr>\n",
       "  </tbody>\n",
       "</table>\n",
       "</div>"
      ],
      "text/plain": [
       "         date group  visitors\n",
       "0  2019-08-01     A       719\n",
       "1  2019-08-02     A       619\n",
       "2  2019-08-03     A       507\n",
       "3  2019-08-04     A       717\n",
       "4  2019-08-05     A       756"
      ]
     },
     "execution_count": 6,
     "metadata": {},
     "output_type": "execute_result"
    }
   ],
   "source": [
    "visitors.head()"
   ]
  },
  {
   "cell_type": "code",
   "execution_count": 7,
   "metadata": {},
   "outputs": [
    {
     "name": "stdout",
     "output_type": "stream",
     "text": [
      "<class 'pandas.core.frame.DataFrame'>\n",
      "RangeIndex: 1197 entries, 0 to 1196\n",
      "Data columns (total 5 columns):\n",
      " #   Column         Non-Null Count  Dtype \n",
      "---  ------         --------------  ----- \n",
      " 0   transactionId  1197 non-null   int64 \n",
      " 1   visitorId      1197 non-null   int64 \n",
      " 2   date           1197 non-null   object\n",
      " 3   revenue        1197 non-null   int64 \n",
      " 4   group          1197 non-null   object\n",
      "dtypes: int64(3), object(2)\n",
      "memory usage: 46.9+ KB\n"
     ]
    }
   ],
   "source": [
    "orders.info()"
   ]
  },
  {
   "cell_type": "code",
   "execution_count": 8,
   "metadata": {},
   "outputs": [
    {
     "name": "stdout",
     "output_type": "stream",
     "text": [
      "<class 'pandas.core.frame.DataFrame'>\n",
      "RangeIndex: 62 entries, 0 to 61\n",
      "Data columns (total 3 columns):\n",
      " #   Column    Non-Null Count  Dtype \n",
      "---  ------    --------------  ----- \n",
      " 0   date      62 non-null     object\n",
      " 1   group     62 non-null     object\n",
      " 2   visitors  62 non-null     int64 \n",
      "dtypes: int64(1), object(2)\n",
      "memory usage: 1.6+ KB\n"
     ]
    }
   ],
   "source": [
    "visitors.info()"
   ]
  },
  {
   "cell_type": "markdown",
   "metadata": {},
   "source": [
    "В обоих датафреймах даты имеют не тот формат, который нужен для анализа. Изменим это."
   ]
  },
  {
   "cell_type": "code",
   "execution_count": 9,
   "metadata": {},
   "outputs": [],
   "source": [
    "orders['date'] = orders['date'].map(lambda x: dt.datetime.strptime(x, '%Y-%m-%d'))\n",
    "visitors['date'] = visitors['date'].map(lambda x: dt.datetime.strptime(x, '%Y-%m-%d'))"
   ]
  },
  {
   "cell_type": "markdown",
   "metadata": {},
   "source": [
    "Проверим количество групп в A/B тесте."
   ]
  },
  {
   "cell_type": "code",
   "execution_count": 10,
   "metadata": {},
   "outputs": [
    {
     "name": "stdout",
     "output_type": "stream",
     "text": [
      "Группы в датафрейме по заказам: ['B' 'A']\n",
      "Группы в датафрейме по посетителям: ['A' 'B']\n"
     ]
    }
   ],
   "source": [
    "print('Группы в датафрейме по заказам:', orders['group'].unique())\n",
    "print('Группы в датафрейме по посетителям:', visitors['group'].unique())"
   ]
  },
  {
   "cell_type": "markdown",
   "metadata": {},
   "source": [
    "Групп 2 - А и В."
   ]
  },
  {
   "cell_type": "markdown",
   "metadata": {},
   "source": [
    "Уточним период, за который нам доступны данные."
   ]
  },
  {
   "cell_type": "code",
   "execution_count": 11,
   "metadata": {},
   "outputs": [
    {
     "name": "stdout",
     "output_type": "stream",
     "text": [
      "Период проведения теста (таблица по заказам): 2019-08-01 00:00:00  -  2019-08-31 00:00:00\n",
      "Период проведения теста (таблица по посетителям): 2019-08-01 00:00:00  -  2019-08-31 00:00:00\n"
     ]
    }
   ],
   "source": [
    "print('Период проведения теста (таблица по заказам):', orders['date'].min(), ' - ', orders['date'].max())\n",
    "print('Период проведения теста (таблица по посетителям):', visitors['date'].min(), ' - ', visitors['date'].max())"
   ]
  },
  {
   "cell_type": "markdown",
   "metadata": {},
   "source": [
    "Интервал проведения теста совпадает в обеих таблицах и соответствует периоду с 1 по 31 августа 2019 года."
   ]
  },
  {
   "cell_type": "markdown",
   "metadata": {},
   "source": [
    "Посмотрим на распеределение количество пользователей в каждой группе."
   ]
  },
  {
   "cell_type": "code",
   "execution_count": 12,
   "metadata": {},
   "outputs": [
    {
     "name": "stdout",
     "output_type": "stream",
     "text": [
      "Количество пользователей, попавших в группу А: 18736\n",
      "Количество пользователей, попавших в группу В: 18916\n",
      "Различие составляет -0.95 %\n"
     ]
    }
   ],
   "source": [
    "print('Количество пользователей, попавших в группу А:', visitors[visitors['group'] == 'A']['visitors'].sum())\n",
    "print('Количество пользователей, попавших в группу В:', visitors[visitors['group'] == 'B']['visitors'].sum())\n",
    "print(\n",
    "      'Различие составляет',\n",
    "      round(visitors[visitors['group'] == 'A']['visitors'].sum() * 100\n",
    "      /visitors[visitors['group'] == 'B']['visitors'].sum() - 100, 2),\n",
    "    '%'\n",
    ")"
   ]
  },
  {
   "cell_type": "markdown",
   "metadata": {},
   "source": [
    "Количество пользователей в разных группах отличется менее, чем на 1%, что удовлетворяет критерию качества проведения теста."
   ]
  },
  {
   "cell_type": "markdown",
   "metadata": {},
   "source": [
    "Проверим не попадают ли у нас пользователи в обе группы."
   ]
  },
  {
   "cell_type": "code",
   "execution_count": 13,
   "metadata": {},
   "outputs": [
    {
     "name": "stdout",
     "output_type": "stream",
     "text": [
      "Количество пользователей, попавших в обе группы: 58\n"
     ]
    }
   ],
   "source": [
    "double_group = orders.groupby('visitorId', as_index=False)['group'].nunique()\n",
    "double_group = double_group[double_group['group'] > 1]['visitorId']\n",
    "print('Количество пользователей, попавших в обе группы:', double_group.count())"
   ]
  },
  {
   "cell_type": "markdown",
   "metadata": {},
   "source": [
    "Таких пользователей оказалось 58 человек. Так как эти пользователи видели обе версии сервиса, то нельзя сказать, какая именно вервия повлияла на его решение о покупке. Поэтому во избежание некорректной интерпретации результатов тестирования, исключим их из анализа."
   ]
  },
  {
   "cell_type": "code",
   "execution_count": 14,
   "metadata": {},
   "outputs": [],
   "source": [
    "orders = orders.query('visitorId not in @double_group')"
   ]
  },
  {
   "cell_type": "markdown",
   "metadata": {},
   "source": [
    "Теперь подготовим кумулятивные данные для дальнешего проведения анализа."
   ]
  },
  {
   "cell_type": "code",
   "execution_count": 15,
   "metadata": {},
   "outputs": [],
   "source": [
    "register_matplotlib_converters()\n",
    "\n",
    "datesGroups = orders[['date', 'group']].drop_duplicates()\n",
    "\n",
    "ordersAggregated = datesGroups.apply(\n",
    "    lambda x: orders[\n",
    "        np.logical_and(\n",
    "            orders['date'] <= x['date'], orders['group'] == x['group']\n",
    "        )\n",
    "    ].agg(\n",
    "        {\n",
    "            'date': 'max',\n",
    "            'group': 'max',\n",
    "            'transactionId': 'nunique',\n",
    "            'visitorId': 'nunique',\n",
    "            'revenue': 'sum',\n",
    "        }\n",
    "    ),\n",
    "    axis=1,\n",
    ").sort_values(by=['date', 'group'])\n",
    "\n",
    "visitorsAggregated = datesGroups.apply(\n",
    "    lambda x: visitors[\n",
    "        np.logical_and(\n",
    "            visitors['date'] <= x['date'], visitors['group'] == x['group']\n",
    "        )\n",
    "    ].agg({'date': 'max', 'group': 'max', 'visitors': 'sum'}),\n",
    "    axis=1,\n",
    ").sort_values(by=['date', 'group'])\n",
    "\n",
    "cumulativeData = ordersAggregated.merge(\n",
    "    visitorsAggregated, left_on=['date', 'group'], right_on=['date', 'group']\n",
    ")\n",
    "cumulativeData.columns = [\n",
    "    'date',\n",
    "    'group',\n",
    "    'orders',\n",
    "    'buyers',\n",
    "    'revenue',\n",
    "    'visitors',\n",
    "]\n",
    "\n",
    "# датафрейм с кумулятивным количеством заказов и кумулятивной выручкой по дням в группе А\n",
    "cumulativeRevenueA = cumulativeData[cumulativeData['group']=='A'][['date','revenue', 'orders']]\n",
    "\n",
    "# датафрейм с кумулятивным количеством заказов и кумулятивной выручкой по дням в группе B\n",
    "cumulativeRevenueB = cumulativeData[cumulativeData['group']=='B'][['date','revenue', 'orders']]"
   ]
  },
  {
   "cell_type": "markdown",
   "metadata": {},
   "source": [
    "### График кумулятивной выручки по группам"
   ]
  },
  {
   "cell_type": "code",
   "execution_count": 16,
   "metadata": {},
   "outputs": [
    {
     "data": {
      "image/png": "[encoded data removed]",
      "text/plain": [
       "<Figure size 1080x360 with 1 Axes>"
      ]
     },
     "metadata": {
      "needs_background": "light"
     },
     "output_type": "display_data"
    }
   ],
   "source": [
    "plt.figure(figsize=(15, 5))\n",
    "\n",
    "# Строим график выручки группы А\n",
    "plt.plot(cumulativeRevenueA['date'], cumulativeRevenueA['revenue']/1000000, label='A', linewidth=2.0)\n",
    "# Строим график выручки группы B\n",
    "plt.plot(cumulativeRevenueB['date'], cumulativeRevenueB['revenue']/1000000, label='B', linewidth=2.0)\n",
    "plt.title('График кумулятивной выручки по группам')\n",
    "plt.xlabel('дата')\n",
    "plt.ylabel('накопленная выручка, млн руб.')\n",
    "plt.legend()\n",
    "\n",
    "plt.show()"
   ]
  },
  {
   "cell_type": "markdown",
   "metadata": {},
   "source": [
    "На графике заметен резкий скачок в группе B в середине теста, который сильно увеличил преимущество группы B по размеру выручки. Можно предположить, что этот всплеск обеспечен какой-то аномалией, поэтому в дальнейшем необходимо будет проверить дата сет на их наличие.\n",
    "\n",
    "Также видно, что преимущество группы B над группой A по размеру выручки имело бы место даже без этого всплеска, просто разница была бы не такой большой."
   ]
  },
  {
   "cell_type": "markdown",
   "metadata": {},
   "source": [
    "### График кумулятивного среднего чека по группам"
   ]
  },
  {
   "cell_type": "code",
   "execution_count": 17,
   "metadata": {},
   "outputs": [
    {
     "data": {
      "image/png": "[encoded data removed]",
      "text/plain": [
       "<Figure size 1080x360 with 1 Axes>"
      ]
     },
     "metadata": {
      "needs_background": "light"
     },
     "output_type": "display_data"
    }
   ],
   "source": [
    "plt.figure(figsize=(15, 5))\n",
    "\n",
    "# Строим график среднего чека группы А\n",
    "plt.plot(cumulativeRevenueA['date'], cumulativeRevenueA['revenue']/cumulativeRevenueA['orders'], label='A', linewidth=2.0)\n",
    "# Строим график среднего чека группы А\n",
    "plt.plot(cumulativeRevenueB['date'], cumulativeRevenueB['revenue']/cumulativeRevenueB['orders'], label='B', linewidth=2.0)\n",
    "plt.title('График кумулятивного среднего чека по группам')\n",
    "plt.xlabel('дата')\n",
    "plt.ylabel('кумулятивный средний чек, руб.')\n",
    "plt.legend()\n",
    "\n",
    "plt.show()"
   ]
  },
  {
   "cell_type": "markdown",
   "metadata": {},
   "source": [
    "На этом графике снова видны предположительно аномальные скачки, особенно в группе B в середине теста (как и по выручке).\n",
    "\n",
    "Здесь пока сложно сказать, как изменится расстановка сил после устранения аномалий в случае подтверждения их наличия."
   ]
  },
  {
   "cell_type": "markdown",
   "metadata": {},
   "source": [
    "### График относительного изменения кумулятивного среднего чека группы B к группе A"
   ]
  },
  {
   "cell_type": "code",
   "execution_count": 18,
   "metadata": {},
   "outputs": [
    {
     "data": {
      "image/png": "[encoded data removed]",
      "text/plain": [
       "<Figure size 1080x432 with 1 Axes>"
      ]
     },
     "metadata": {
      "needs_background": "light"
     },
     "output_type": "display_data"
    }
   ],
   "source": [
    "# собираем данные в одном датафрейме\n",
    "mergedCumulativeRevenue = cumulativeRevenueA.merge(\n",
    "    cumulativeRevenueB, left_on='date',\n",
    "    right_on='date', how='left', suffixes=['A', 'B']\n",
    ")\n",
    "\n",
    "# cтроим отношение средних чеков\n",
    "plt.figure(figsize=(15, 6))\n",
    "\n",
    "plt.plot(mergedCumulativeRevenue['date'],\n",
    "         (mergedCumulativeRevenue['revenueB']/mergedCumulativeRevenue['ordersB'])\n",
    "         /(mergedCumulativeRevenue['revenueA']/mergedCumulativeRevenue['ordersA'])-1,\n",
    "         label='группа B к группе А', linewidth=2.0)\n",
    "plt.title('График относительного изменения кумулятивного среднего чека группы B к группе A')\n",
    "\n",
    "plt.axhline(y=0, color='black', linestyle='--')\n",
    "plt.axis([\"2019-08-01\", '2019-08-31', -1, 1])\n",
    "\n",
    "plt.xlabel('дата')\n",
    "plt.ylabel('относительное изменение кумулятивного среднего чека')\n",
    "plt.legend()\n",
    "\n",
    "plt.show()"
   ]
  },
  {
   "cell_type": "markdown",
   "metadata": {},
   "source": [
    "Как и по первым двум графикам, выводы о наличии закономерностей пока сделать сложно из-за наличия скачков, которые могут быть обеспечены аномальными значениями. Сложно сказать, как повел бы себя график без скачка 19 августа."
   ]
  },
  {
   "cell_type": "markdown",
   "metadata": {},
   "source": [
    "### График кумулятивного среднего количества заказов по группам"
   ]
  },
  {
   "cell_type": "markdown",
   "metadata": {},
   "source": [
    "Здесь под \"средним количеством заказов\" будем понимать среднее количество заказов на одного пользователя, т.е. конверсию в покупку."
   ]
  },
  {
   "cell_type": "code",
   "execution_count": 19,
   "metadata": {},
   "outputs": [
    {
     "data": {
      "text/html": [
       "<div>\n",
       "<style scoped>\n",
       "    .dataframe tbody tr th:only-of-type {\n",
       "        vertical-align: middle;\n",
       "    }\n",
       "\n",
       "    .dataframe tbody tr th {\n",
       "        vertical-align: top;\n",
       "    }\n",
       "\n",
       "    .dataframe thead th {\n",
       "        text-align: right;\n",
       "    }\n",
       "</style>\n",
       "<table border=\"1\" class=\"dataframe\">\n",
       "  <thead>\n",
       "    <tr style=\"text-align: right;\">\n",
       "      <th></th>\n",
       "      <th>date</th>\n",
       "      <th>group</th>\n",
       "      <th>orders</th>\n",
       "      <th>buyers</th>\n",
       "      <th>revenue</th>\n",
       "      <th>visitors</th>\n",
       "    </tr>\n",
       "  </thead>\n",
       "  <tbody>\n",
       "    <tr>\n",
       "      <th>0</th>\n",
       "      <td>2019-08-01</td>\n",
       "      <td>A</td>\n",
       "      <td>23</td>\n",
       "      <td>19</td>\n",
       "      <td>142779</td>\n",
       "      <td>719</td>\n",
       "    </tr>\n",
       "    <tr>\n",
       "      <th>1</th>\n",
       "      <td>2019-08-01</td>\n",
       "      <td>B</td>\n",
       "      <td>17</td>\n",
       "      <td>17</td>\n",
       "      <td>59758</td>\n",
       "      <td>713</td>\n",
       "    </tr>\n",
       "    <tr>\n",
       "      <th>2</th>\n",
       "      <td>2019-08-02</td>\n",
       "      <td>A</td>\n",
       "      <td>42</td>\n",
       "      <td>36</td>\n",
       "      <td>234381</td>\n",
       "      <td>1338</td>\n",
       "    </tr>\n",
       "    <tr>\n",
       "      <th>3</th>\n",
       "      <td>2019-08-02</td>\n",
       "      <td>B</td>\n",
       "      <td>40</td>\n",
       "      <td>39</td>\n",
       "      <td>221801</td>\n",
       "      <td>1294</td>\n",
       "    </tr>\n",
       "    <tr>\n",
       "      <th>4</th>\n",
       "      <td>2019-08-03</td>\n",
       "      <td>A</td>\n",
       "      <td>66</td>\n",
       "      <td>60</td>\n",
       "      <td>346854</td>\n",
       "      <td>1845</td>\n",
       "    </tr>\n",
       "  </tbody>\n",
       "</table>\n",
       "</div>"
      ],
      "text/plain": [
       "        date group  orders  buyers  revenue  visitors\n",
       "0 2019-08-01     A      23      19   142779       719\n",
       "1 2019-08-01     B      17      17    59758       713\n",
       "2 2019-08-02     A      42      36   234381      1338\n",
       "3 2019-08-02     B      40      39   221801      1294\n",
       "4 2019-08-03     A      66      60   346854      1845"
      ]
     },
     "execution_count": 19,
     "metadata": {},
     "output_type": "execute_result"
    }
   ],
   "source": [
    "cumulativeData.head()"
   ]
  },
  {
   "cell_type": "code",
   "execution_count": 20,
   "metadata": {},
   "outputs": [
    {
     "data": {
      "image/png": "[encoded data removed]",
      "text/plain": [
       "<Figure size 1080x360 with 1 Axes>"
      ]
     },
     "metadata": {
      "needs_background": "light"
     },
     "output_type": "display_data"
    }
   ],
   "source": [
    "# считаем кумулятивную конверсию\n",
    "cumulativeData['conversion'] = cumulativeData['orders']/cumulativeData['visitors']\n",
    "\n",
    "# отделяем данные по группе A\n",
    "cumulativeDataA = cumulativeData[cumulativeData['group']=='A']\n",
    "\n",
    "# отделяем данные по группе B\n",
    "cumulativeDataB = cumulativeData[cumulativeData['group']=='B']\n",
    "\n",
    "# строим графики\n",
    "plt.figure(figsize=(15, 5))\n",
    "\n",
    "plt.plot(cumulativeDataA['date'], cumulativeDataA['conversion'], label='A', linewidth=2.0)\n",
    "plt.plot(cumulativeDataB['date'], cumulativeDataB['conversion'], label='B', linewidth=2.0)\n",
    "plt.title('График кумулятивного среднего количества заказов по группам')\n",
    "plt.xlabel('дата')\n",
    "plt.ylabel('кумулятивное среднее количество заказов')\n",
    "plt.legend()\n",
    "\n",
    "plt.show()"
   ]
  },
  {
   "cell_type": "markdown",
   "metadata": {},
   "source": [
    "По графику видно, что группа B по среднему количеству заказов лидирует по количеству заказов."
   ]
  },
  {
   "cell_type": "markdown",
   "metadata": {},
   "source": [
    "### График относительного изменения кумулятивного среднего количества заказов группы B к группе A"
   ]
  },
  {
   "cell_type": "code",
   "execution_count": 21,
   "metadata": {},
   "outputs": [
    {
     "data": {
      "image/png": "[encoded data removed]",
      "text/plain": [
       "<Figure size 1080x432 with 1 Axes>"
      ]
     },
     "metadata": {
      "needs_background": "light"
     },
     "output_type": "display_data"
    }
   ],
   "source": [
    "mergedCumulativeConversions = cumulativeDataA[['date','conversion']].merge(\n",
    "                                 cumulativeDataB[['date','conversion']],\n",
    "                                 left_on='date', right_on='date',\n",
    "                                 how='left', suffixes=['A', 'B']\n",
    "                             )\n",
    "\n",
    "plt.figure(figsize=(15, 6))\n",
    "\n",
    "plt.plot(mergedCumulativeConversions['date'],\n",
    "         mergedCumulativeConversions['conversionB']/mergedCumulativeConversions['conversionA']-1,\n",
    "         label=\"группа B к группе А\", linewidth=2.0\n",
    "        )\n",
    "plt.title('График относительного изменения кумулятивного среднего количества заказов группы B к группе A')\n",
    "plt.xlabel('дата')\n",
    "plt.ylabel('относительное изменение кумулятивного среднего количество заказов')\n",
    "plt.legend()\n",
    "\n",
    "plt.axhline(y=0, color='black', linestyle='--')\n",
    "plt.axhline(y=0.16, color='grey', linestyle='--')\n",
    "plt.axis([\"2019-08-01\", '2019-08-31', -0.5, 0.5])\n",
    "\n",
    "plt.show()"
   ]
  },
  {
   "cell_type": "markdown",
   "metadata": {},
   "source": [
    "На графике видно, что среднее количество заказов в группе B стабильно превышает среднее количество заказов в группе А. К концу теста относительный прирост среднего количества заказов группы B по отношению к группе А составил 16%. "
   ]
  },
  {
   "cell_type": "markdown",
   "metadata": {},
   "source": [
    "### Точечный график количества заказов по пользователям"
   ]
  },
  {
   "cell_type": "code",
   "execution_count": 22,
   "metadata": {},
   "outputs": [
    {
     "data": {
      "text/html": [
       "<div>\n",
       "<style scoped>\n",
       "    .dataframe tbody tr th:only-of-type {\n",
       "        vertical-align: middle;\n",
       "    }\n",
       "\n",
       "    .dataframe tbody tr th {\n",
       "        vertical-align: top;\n",
       "    }\n",
       "\n",
       "    .dataframe thead th {\n",
       "        text-align: right;\n",
       "    }\n",
       "</style>\n",
       "<table border=\"1\" class=\"dataframe\">\n",
       "  <thead>\n",
       "    <tr style=\"text-align: right;\">\n",
       "      <th></th>\n",
       "      <th>transactionId</th>\n",
       "      <th>visitorId</th>\n",
       "      <th>date</th>\n",
       "      <th>revenue</th>\n",
       "      <th>group</th>\n",
       "    </tr>\n",
       "  </thead>\n",
       "  <tbody>\n",
       "    <tr>\n",
       "      <th>0</th>\n",
       "      <td>3667963787</td>\n",
       "      <td>3312258926</td>\n",
       "      <td>2019-08-15</td>\n",
       "      <td>1650</td>\n",
       "      <td>B</td>\n",
       "    </tr>\n",
       "    <tr>\n",
       "      <th>1</th>\n",
       "      <td>2804400009</td>\n",
       "      <td>3642806036</td>\n",
       "      <td>2019-08-15</td>\n",
       "      <td>730</td>\n",
       "      <td>B</td>\n",
       "    </tr>\n",
       "    <tr>\n",
       "      <th>3</th>\n",
       "      <td>3797467345</td>\n",
       "      <td>1196621759</td>\n",
       "      <td>2019-08-15</td>\n",
       "      <td>9759</td>\n",
       "      <td>B</td>\n",
       "    </tr>\n",
       "    <tr>\n",
       "      <th>4</th>\n",
       "      <td>2282983706</td>\n",
       "      <td>2322279887</td>\n",
       "      <td>2019-08-15</td>\n",
       "      <td>2308</td>\n",
       "      <td>B</td>\n",
       "    </tr>\n",
       "    <tr>\n",
       "      <th>5</th>\n",
       "      <td>182168103</td>\n",
       "      <td>935554773</td>\n",
       "      <td>2019-08-15</td>\n",
       "      <td>2210</td>\n",
       "      <td>B</td>\n",
       "    </tr>\n",
       "  </tbody>\n",
       "</table>\n",
       "</div>"
      ],
      "text/plain": [
       "   transactionId   visitorId       date  revenue group\n",
       "0     3667963787  3312258926 2019-08-15     1650     B\n",
       "1     2804400009  3642806036 2019-08-15      730     B\n",
       "3     3797467345  1196621759 2019-08-15     9759     B\n",
       "4     2282983706  2322279887 2019-08-15     2308     B\n",
       "5      182168103   935554773 2019-08-15     2210     B"
      ]
     },
     "execution_count": 22,
     "metadata": {},
     "output_type": "execute_result"
    }
   ],
   "source": [
    "orders.head()"
   ]
  },
  {
   "cell_type": "code",
   "execution_count": 23,
   "metadata": {},
   "outputs": [
    {
     "data": {
      "image/png": "[encoded data removed]",
      "text/plain": [
       "<Figure size 1080x360 with 1 Axes>"
      ]
     },
     "metadata": {
      "needs_background": "light"
     },
     "output_type": "display_data"
    }
   ],
   "source": [
    "orders_by_users =  orders.groupby('visitorId', as_index=False).agg({'transactionId' : 'nunique',})\n",
    "x_values = pd.Series(range(0,len(orders_by_users)))\n",
    "\n",
    "plt.figure(figsize=(15, 5))\n",
    "plt.title('Точечный график количества заказов по пользователям')\n",
    "plt.scatter(x_values, orders_by_users['transactionId'])\n",
    "plt.ylabel('количество заказов на одного покупателя')\n",
    "\n",
    "plt.show()"
   ]
  },
  {
   "cell_type": "markdown",
   "metadata": {},
   "source": [
    "По графику видно, что в основном покупатели делают по одному заказу, реже по 2 заказа, и всего 7 пользователей сделали 3 заказа."
   ]
  },
  {
   "cell_type": "markdown",
   "metadata": {},
   "source": [
    "### 95-й и 99-й перцентили количества заказов на пользователя"
   ]
  },
  {
   "cell_type": "code",
   "execution_count": 24,
   "metadata": {},
   "outputs": [
    {
     "name": "stdout",
     "output_type": "stream",
     "text": [
      "[1. 1. 2.]\n"
     ]
    }
   ],
   "source": [
    "print(np.percentile(orders_by_users['transactionId'], [90, 95, 99])) "
   ]
  },
  {
   "cell_type": "markdown",
   "metadata": {},
   "source": [
    "Не более 1% пользователей оформляли больше, чем 2 заказа. Учитывая, что на диаграмме рассеяния 3 раза заказали только 7 пользователей, их можно исключить из анализа.\n",
    "Таким образом, в качестве верхней границы числа заказов примем 2 заказа."
   ]
  },
  {
   "cell_type": "markdown",
   "metadata": {},
   "source": [
    "### Точечный график стоимостей заказов"
   ]
  },
  {
   "cell_type": "code",
   "execution_count": 25,
   "metadata": {},
   "outputs": [
    {
     "data": {
      "image/png": "[encoded data removed]",
      "text/plain": [
       "<Figure size 1080x360 with 1 Axes>"
      ]
     },
     "metadata": {
      "needs_background": "light"
     },
     "output_type": "display_data"
    }
   ],
   "source": [
    "x_values = pd.Series(range(0, len(orders['revenue'])))\n",
    "\n",
    "plt.figure(figsize=(15, 5))\n",
    "\n",
    "plt.scatter(x_values, orders['revenue']/1000) \n",
    "plt.title('Точечный график стоимостей заказов')\n",
    "plt.ylabel('стоимость заказа, тыс. руб.')\n",
    "\n",
    "plt.show()"
   ]
  },
  {
   "cell_type": "markdown",
   "metadata": {},
   "source": [
    "По графику отчетливо видны 2 выброса - заказы на сумму 200 тыс. рублей и 1,3 млн. рублей."
   ]
  },
  {
   "cell_type": "markdown",
   "metadata": {},
   "source": [
    "### 95-й и 99-й перцентили стоимости заказов"
   ]
  },
  {
   "cell_type": "code",
   "execution_count": 26,
   "metadata": {},
   "outputs": [
    {
     "name": "stdout",
     "output_type": "stream",
     "text": [
      "[17990. 26785. 53904.]\n"
     ]
    }
   ],
   "source": [
    "print(np.percentile(orders['revenue'], [90, 95, 99]))"
   ]
  },
  {
   "cell_type": "markdown",
   "metadata": {},
   "source": [
    "По результатам расчета видно, что заказы на сумму более 53,9 тыс. рублей составляют менее 1%. Именно это значение и примем за верхнюю границу стоимости заказов."
   ]
  },
  {
   "cell_type": "markdown",
   "metadata": {},
   "source": [
    "### Статистическая значимость различий в среднем количестве заказов между группами по «сырым» данным"
   ]
  },
  {
   "cell_type": "markdown",
   "metadata": {},
   "source": [
    "Для начала подготовим данные для анализа."
   ]
  },
  {
   "cell_type": "code",
   "execution_count": 27,
   "metadata": {},
   "outputs": [],
   "source": [
    "visitorsADaily = visitors[visitors['group'] == 'A'][['date', 'visitors']]\n",
    "visitorsADaily.columns = ['date', 'visitorsPerDateA']\n",
    "\n",
    "visitorsACummulative = visitorsADaily.apply(\n",
    "    lambda x: visitorsADaily[visitorsADaily['date'] <= x['date']].agg(\n",
    "        {'date': 'max', 'visitorsPerDateA': 'sum'}\n",
    "    ),\n",
    "    axis=1,\n",
    ")\n",
    "visitorsACummulative.columns = ['date', 'visitorsCummulativeA']\n",
    "\n",
    "visitorsBDaily = visitors[visitors['group'] == 'B'][['date', 'visitors']]\n",
    "visitorsBDaily.columns = ['date', 'visitorsPerDateB']\n",
    "\n",
    "visitorsBCummulative = visitorsBDaily.apply(\n",
    "    lambda x: visitorsBDaily[visitorsBDaily['date'] <= x['date']].agg(\n",
    "        {'date': 'max', 'visitorsPerDateB': 'sum'}\n",
    "    ),\n",
    "    axis=1,\n",
    ")\n",
    "visitorsBCummulative.columns = ['date', 'visitorsCummulativeB']\n",
    "\n",
    "ordersADaily = (\n",
    "    orders[orders['group'] == 'A'][['date', 'transactionId', 'visitorId', 'revenue']]\n",
    "    .groupby('date', as_index=False)\n",
    "    .agg({'transactionId': pd.Series.nunique, 'revenue': 'sum'})\n",
    ")\n",
    "ordersADaily.columns = ['date', 'ordersPerDateA', 'revenuePerDateA']\n",
    "\n",
    "ordersACummulative = ordersADaily.apply(\n",
    "    lambda x: ordersADaily[ordersADaily['date'] <= x['date']].agg(\n",
    "        {'date': 'max', 'ordersPerDateA': 'sum', 'revenuePerDateA': 'sum'}\n",
    "    ),\n",
    "    axis=1,\n",
    ").sort_values(by=['date'])\n",
    "ordersACummulative.columns = [\n",
    "    'date',\n",
    "    'ordersCummulativeA',\n",
    "    'revenueCummulativeA',\n",
    "]\n",
    "\n",
    "ordersBDaily = (\n",
    "    orders[orders['group'] == 'B'][['date', 'transactionId', 'visitorId', 'revenue']]\n",
    "    .groupby('date', as_index=False)\n",
    "    .agg({'transactionId': pd.Series.nunique, 'revenue': 'sum'})\n",
    ")\n",
    "ordersBDaily.columns = ['date', 'ordersPerDateB', 'revenuePerDateB']\n",
    "\n",
    "ordersBCummulative = ordersBDaily.apply(\n",
    "    lambda x: ordersBDaily[ordersBDaily['date'] <= x['date']].agg(\n",
    "        {'date': 'max', 'ordersPerDateB': 'sum', 'revenuePerDateB': 'sum'}\n",
    "    ),\n",
    "    axis=1,\n",
    ").sort_values(by=['date'])\n",
    "ordersBCummulative.columns = [\n",
    "    'date',\n",
    "    'ordersCummulativeB',\n",
    "    'revenueCummulativeB',\n",
    "]\n",
    "\n",
    "data = (\n",
    "    ordersADaily.merge(\n",
    "        ordersBDaily, left_on='date', right_on='date', how='left'\n",
    "    )\n",
    "    .merge(ordersACummulative, left_on='date', right_on='date', how='left')\n",
    "    .merge(ordersBCummulative, left_on='date', right_on='date', how='left')\n",
    "    .merge(visitorsADaily, left_on='date', right_on='date', how='left')\n",
    "    .merge(visitorsBDaily, left_on='date', right_on='date', how='left')\n",
    "    .merge(visitorsACummulative, left_on='date', right_on='date', how='left')\n",
    "    .merge(visitorsBCummulative, left_on='date', right_on='date', how='left')\n",
    ")\n",
    "\n",
    "ordersByUsersA = (\n",
    "    orders[orders['group'] == 'A']\n",
    "    .groupby('visitorId', as_index=False)\n",
    "    .agg({'transactionId': pd.Series.nunique})\n",
    ")\n",
    "ordersByUsersA.columns = ['visitorId', 'orders']\n",
    "\n",
    "ordersByUsersB = (\n",
    "    orders[orders['group'] == 'B']\n",
    "    .groupby('visitorId', as_index=False)\n",
    "    .agg({'transactionId': pd.Series.nunique})\n",
    ")\n",
    "ordersByUsersB.columns = ['visitorId', 'orders'] \n",
    "\n",
    "sampleA = pd.concat([ordersByUsersA['orders'],pd.Series(0, index=np.arange(data['visitorsPerDateA'].sum() - len(ordersByUsersA['orders'])), name='orders')],axis=0)\n",
    "\n",
    "sampleB = pd.concat([ordersByUsersB['orders'],pd.Series(0, index=np.arange(data['visitorsPerDateB'].sum() - len(ordersByUsersB['orders'])), name='orders')],axis=0)\n",
    "\n",
    "ordersByUsersA = (\n",
    "    orders[orders['group'] == 'A']\n",
    "    .groupby('visitorId', as_index=False)\n",
    "    .agg({'transactionId': pd.Series.nunique})\n",
    ")\n",
    "ordersByUsersA.columns = ['visitorId', 'orders']\n",
    "\n",
    "ordersByUsersB = (\n",
    "    orders[orders['group'] == 'B']\n",
    "    .groupby('visitorId', as_index=False)\n",
    "    .agg({'transactionId': pd.Series.nunique})\n",
    ")\n",
    "ordersByUsersB.columns = ['visitorId', 'orders']\n",
    "\n",
    "sampleA = pd.concat(\n",
    "    [\n",
    "        ordersByUsersA['orders'],\n",
    "        pd.Series(\n",
    "            0,\n",
    "            index=np.arange(\n",
    "                data['visitorsPerDateA'].sum() - len(ordersByUsersA['orders'])\n",
    "            ),\n",
    "            name='orders',\n",
    "        ),\n",
    "    ],\n",
    "    axis=0,\n",
    ")\n",
    "\n",
    "sampleB = pd.concat(\n",
    "    [\n",
    "        ordersByUsersB['orders'],\n",
    "        pd.Series(\n",
    "            0,\n",
    "            index=np.arange(\n",
    "                data['visitorsPerDateB'].sum() - len(ordersByUsersB['orders'])\n",
    "            ),\n",
    "            name='orders',\n",
    "        ),\n",
    "    ],\n",
    "    axis=0,\n",
    ")"
   ]
  },
  {
   "cell_type": "markdown",
   "metadata": {},
   "source": [
    "Теперь оценим статистическую значимость различий в среднем количестве заказов между группами по тесту Манна-Уитни"
   ]
  },
  {
   "cell_type": "markdown",
   "metadata": {},
   "source": [
    "В качестве нулевой и альтернативной гипотез примем следующие:\n",
    "```\n",
    "H0: среднее количество заказов в группе А = среднее количество заказов в группе B\n",
    "H1: среднее количество заказов в группе А ≠ среднее количество заказов в группе B\n",
    "\n",
    "```"
   ]
  },
  {
   "cell_type": "code",
   "execution_count": 28,
   "metadata": {},
   "outputs": [
    {
     "data": {
      "text/plain": [
       "0        1\n",
       "1        1\n",
       "2        1\n",
       "3        1\n",
       "4        1\n",
       "        ..\n",
       "18286    0\n",
       "18287    0\n",
       "18288    0\n",
       "18289    0\n",
       "18290    0\n",
       "Name: orders, Length: 18736, dtype: int64"
      ]
     },
     "execution_count": 28,
     "metadata": {},
     "output_type": "execute_result"
    }
   ],
   "source": [
    "sampleA"
   ]
  },
  {
   "cell_type": "code",
   "execution_count": 29,
   "metadata": {},
   "outputs": [
    {
     "name": "stdout",
     "output_type": "stream",
     "text": [
      "0.011018084110014696\n",
      "0.160\n"
     ]
    }
   ],
   "source": [
    "print(stats.mannwhitneyu(sampleA, sampleB)[1])\n",
    "\n",
    "print(\"{0:.3f}\".format(sampleB.mean() / sampleA.mean() - 1))"
   ]
  },
  {
   "cell_type": "markdown",
   "metadata": {},
   "source": [
    "В качестве статистической значимости примем 5%.\n",
    "\n",
    "По результатам теста по \"сырым\" данным P-value меньше 5%, поэтому нулевую гипотезу можно было бы отвергнуть и говорить о статистической значимости различий между группами. Но мы помним, что в данных есть аномалии. В дальнейшем посмотрим, какое они окажут влияние на результат.\n",
    "\n",
    "На данном этапе относительный прирост среднего количества заказов в группе B к группе А составил 16%."
   ]
  },
  {
   "cell_type": "markdown",
   "metadata": {},
   "source": [
    "### Статистическая значимость различий в среднем чеке заказа между группами по «сырым» данным"
   ]
  },
  {
   "cell_type": "markdown",
   "metadata": {},
   "source": [
    "В качестве нулевой и альтернативной гипотез примем следующие:\n",
    "```\n",
    "H0: средний чек в группе А = средний чек в группе B\n",
    "H1: средний чек в группе А ≠ средний чек в группе B\n",
    "\n",
    "```"
   ]
  },
  {
   "cell_type": "code",
   "execution_count": 35,
   "metadata": {},
   "outputs": [
    {
     "data": {
      "text/plain": [
       "7        1044\n",
       "8       13710\n",
       "10       4008\n",
       "12       7370\n",
       "14      10980\n",
       "        ...  \n",
       "1185      730\n",
       "1187      750\n",
       "1188      112\n",
       "1193     3190\n",
       "1194    10550\n",
       "Name: revenue, Length: 468, dtype: int64"
      ]
     },
     "execution_count": 35,
     "metadata": {},
     "output_type": "execute_result"
    }
   ],
   "source": [
    "orders[orders['group']=='A']['revenue']"
   ]
  },
  {
   "cell_type": "code",
   "execution_count": 30,
   "metadata": {},
   "outputs": [
    {
     "name": "stdout",
     "output_type": "stream",
     "text": [
      "0.8294908998149533\n",
      "0.287\n"
     ]
    }
   ],
   "source": [
    "print(stats.mannwhitneyu(orders[orders['group']=='A']['revenue'], orders[orders['group']=='B']['revenue'])[1])\n",
    "print('{0:.3f}'.format(orders[orders['group']=='B']['revenue'].mean()/orders[orders['group']=='A']['revenue'].mean()-1)) "
   ]
  },
  {
   "cell_type": "markdown",
   "metadata": {},
   "source": [
    "Здесь ситуация иная - статистически значимых различий в среднем чеке между группами пока нет. Но относительный прирост среднего чека группы B по отношению к группе A довольно большой - 28,7%. Это может быть следствием влияния аномалий. Проверим это при анализе \"очищенных\" данных."
   ]
  },
  {
   "cell_type": "markdown",
   "metadata": {},
   "source": [
    "### Статистическая значимость различий в среднем количестве заказов между группами по «очищенным» данным"
   ]
  },
  {
   "cell_type": "markdown",
   "metadata": {},
   "source": [
    "Сначала очистим данные от аномалий, применив границы количества заказов и среднего чека.\n",
    "Напомним, что для количества заказов мы установили границу в 2 заказа, а для среднего чека - в 58300 рублей."
   ]
  },
  {
   "cell_type": "code",
   "execution_count": 31,
   "metadata": {},
   "outputs": [],
   "source": [
    "ordersByUsersA = (\n",
    "    orders[orders['group'] == 'A']\n",
    "    .groupby('visitorId', as_index=False)\n",
    "    .agg({'transactionId': pd.Series.nunique})\n",
    ")\n",
    "ordersByUsersA.columns = ['visitorId', 'orders']\n",
    "\n",
    "ordersByUsersB = (\n",
    "    orders[orders['group'] == 'B']\n",
    "    .groupby('visitorId', as_index=False)\n",
    "    .agg({'transactionId': pd.Series.nunique})\n",
    ")\n",
    "ordersByUsersB.columns = ['visitorId', 'orders']\n",
    "\n",
    "orders_limit = 2\n",
    "revenue_limit = 58300\n",
    "\n",
    "usersWithManyOrders = pd.concat(\n",
    "    [\n",
    "        ordersByUsersA[ordersByUsersA['orders'] > orders_limit]['visitorId'],\n",
    "        ordersByUsersB[ordersByUsersB['orders'] > orders_limit]['visitorId'],\n",
    "    ],\n",
    "    axis=0,\n",
    ")\n",
    "usersWithExpensiveOrders = orders[orders['revenue'] > revenue_limit]['visitorId']\n",
    "abnormalUsers = (\n",
    "    pd.concat([usersWithManyOrders, usersWithExpensiveOrders], axis=0)\n",
    "    .drop_duplicates()\n",
    "    .sort_values()\n",
    ")"
   ]
  },
  {
   "cell_type": "markdown",
   "metadata": {},
   "source": [
    "Теперь заново подготовим данные для анализа, уже \"очищенные\"."
   ]
  },
  {
   "cell_type": "code",
   "execution_count": 32,
   "metadata": {},
   "outputs": [],
   "source": [
    "visitorsADaily = visitors[visitors['group'] == 'A'][['date', 'visitors']]\n",
    "visitorsADaily.columns = ['date', 'visitorsPerDateA']\n",
    "\n",
    "visitorsACummulative = visitorsADaily.apply(\n",
    "    lambda x: visitorsADaily[visitorsADaily['date'] <= x['date']].agg(\n",
    "        {'date': 'max', 'visitorsPerDateA': 'sum'}\n",
    "    ),\n",
    "    axis=1,\n",
    ")\n",
    "visitorsACummulative.columns = ['date', 'visitorsCummulativeA']\n",
    "\n",
    "visitorsBDaily = visitors[visitors['group'] == 'B'][['date', 'visitors']]\n",
    "visitorsBDaily.columns = ['date', 'visitorsPerDateB']\n",
    "\n",
    "visitorsBCummulative = visitorsBDaily.apply(\n",
    "    lambda x: visitorsBDaily[visitorsBDaily['date'] <= x['date']].agg(\n",
    "        {'date': 'max', 'visitorsPerDateB': 'sum'}\n",
    "    ),\n",
    "    axis=1,\n",
    ")\n",
    "visitorsBCummulative.columns = ['date', 'visitorsCummulativeB']\n",
    "\n",
    "ordersADaily = (\n",
    "    orders[orders['group'] == 'A'][['date', 'transactionId', 'visitorId', 'revenue']]\n",
    "    .groupby('date', as_index=False)\n",
    "    .agg({'transactionId': pd.Series.nunique, 'revenue': 'sum'})\n",
    ")\n",
    "ordersADaily.columns = ['date', 'ordersPerDateA', 'revenuePerDateA']\n",
    "\n",
    "ordersACummulative = ordersADaily.apply(\n",
    "    lambda x: ordersADaily[ordersADaily['date'] <= x['date']].agg(\n",
    "        {'date': 'max', 'ordersPerDateA': 'sum', 'revenuePerDateA': 'sum'}\n",
    "    ),\n",
    "    axis=1,\n",
    ").sort_values(by=['date'])\n",
    "ordersACummulative.columns = [\n",
    "    'date',\n",
    "    'ordersCummulativeA',\n",
    "    'revenueCummulativeA',\n",
    "]\n",
    "\n",
    "ordersBDaily = (\n",
    "    orders[orders['group'] == 'B'][['date', 'transactionId', 'visitorId', 'revenue']]\n",
    "    .groupby('date', as_index=False)\n",
    "    .agg({'transactionId': pd.Series.nunique, 'revenue': 'sum'})\n",
    ")\n",
    "ordersBDaily.columns = ['date', 'ordersPerDateB', 'revenuePerDateB']\n",
    "\n",
    "ordersBCummulative = ordersBDaily.apply(\n",
    "    lambda x: ordersBDaily[ordersBDaily['date'] <= x['date']].agg(\n",
    "        {'date': 'max', 'ordersPerDateB': 'sum', 'revenuePerDateB': 'sum'}\n",
    "    ),\n",
    "    axis=1,\n",
    ").sort_values(by=['date'])\n",
    "ordersBCummulative.columns = [\n",
    "    'date',\n",
    "    'ordersCummulativeB',\n",
    "    'revenueCummulativeB',\n",
    "]\n",
    "\n",
    "data = (\n",
    "    ordersADaily.merge(\n",
    "        ordersBDaily, left_on='date', right_on='date', how='left'\n",
    "    )\n",
    "    .merge(ordersACummulative, left_on='date', right_on='date', how='left')\n",
    "    .merge(ordersBCummulative, left_on='date', right_on='date', how='left')\n",
    "    .merge(visitorsADaily, left_on='date', right_on='date', how='left')\n",
    "    .merge(visitorsBDaily, left_on='date', right_on='date', how='left')\n",
    "    .merge(visitorsACummulative, left_on='date', right_on='date', how='left')\n",
    "    .merge(visitorsBCummulative, left_on='date', right_on='date', how='left')\n",
    ")\n",
    "\n",
    "ordersByUsersA = (\n",
    "    orders[orders['group'] == 'A']\n",
    "    .groupby('visitorId', as_index=False)\n",
    "    .agg({'transactionId': pd.Series.nunique})\n",
    ")\n",
    "ordersByUsersA.columns = ['visitorId', 'orders']\n",
    "\n",
    "ordersByUsersB = (\n",
    "    orders[orders['group'] == 'B']\n",
    "    .groupby('visitorId', as_index=False)\n",
    "    .agg({'transactionId': pd.Series.nunique})\n",
    ")\n",
    "ordersByUsersB.columns = ['visitorId', 'orders']\n",
    "\n",
    "\n",
    "usersWithManyOrders = pd.concat(\n",
    "    [\n",
    "        ordersByUsersA[ordersByUsersA['orders'] > 2]['visitorId'],\n",
    "        ordersByUsersB[ordersByUsersB['orders'] > 2]['visitorId'],\n",
    "    ],\n",
    "    axis=0,\n",
    ")\n",
    "usersWithExpensiveOrders = orders[orders['revenue'] > 10000]['visitorId']\n",
    "abnormalUsers = (\n",
    "    pd.concat([usersWithManyOrders, usersWithExpensiveOrders], axis=0)\n",
    "    .drop_duplicates()\n",
    "    .sort_values()\n",
    ")\n",
    "\n",
    "\n",
    "sampleAFiltered = pd.concat(\n",
    "    [\n",
    "        ordersByUsersA[\n",
    "            np.logical_not(ordersByUsersA['visitorId'].isin(abnormalUsers))\n",
    "        ]['orders'],\n",
    "        pd.Series(\n",
    "            0,\n",
    "            index=np.arange(\n",
    "                data['visitorsPerDateA'].sum() - len(ordersByUsersA['orders'])\n",
    "            ),\n",
    "            name='orders',\n",
    "        ),\n",
    "    ],\n",
    "    axis=0,\n",
    ")\n",
    "\n",
    "sampleBFiltered = pd.concat(\n",
    "    [\n",
    "        ordersByUsersB[\n",
    "            np.logical_not(ordersByUsersB['visitorId'].isin(abnormalUsers))\n",
    "        ]['orders'],\n",
    "        pd.Series(\n",
    "            0,\n",
    "            index=np.arange(\n",
    "                data['visitorsPerDateB'].sum() - len(ordersByUsersB['orders'])\n",
    "            ),\n",
    "            name='orders',\n",
    "        ),\n",
    "    ],\n",
    "    axis=0,\n",
    ")"
   ]
  },
  {
   "cell_type": "code",
   "execution_count": 33,
   "metadata": {},
   "outputs": [
    {
     "name": "stdout",
     "output_type": "stream",
     "text": [
      "0.006793792730532926\n",
      "0.219\n"
     ]
    }
   ],
   "source": [
    "print(stats.mannwhitneyu(sampleAFiltered, sampleBFiltered)[1])\n",
    "print('{0:.3f}'.format(sampleBFiltered.mean()/sampleAFiltered.mean()-1)) "
   ]
  },
  {
   "cell_type": "markdown",
   "metadata": {},
   "source": [
    "По \"очищенным\" данным статистическая значимость возросла: с 0,011 по \"сырым\" данным до 0,007 - по \"очищенным\". Теперь мы можем отвергать нулевую гипотезу и признавать статистические различия между группами. Кроме того, относительный прирост среднего количества заказов в группе B к группе А составил 21,9%, что значительно больше, чем при анализе \"сырых\" данных."
   ]
  },
  {
   "cell_type": "markdown",
   "metadata": {},
   "source": [
    "### Статистическая значимость различий в среднем чеке заказа между группами по «очищенным» данным"
   ]
  },
  {
   "cell_type": "code",
   "execution_count": 34,
   "metadata": {},
   "outputs": [
    {
     "name": "stdout",
     "output_type": "stream",
     "text": [
      "0.759\n",
      "0.008\n"
     ]
    }
   ],
   "source": [
    "print(\n",
    "    '{0:.3f}'.format(\n",
    "        stats.mannwhitneyu(\n",
    "            orders[\n",
    "                np.logical_and(\n",
    "                    orders['group'] == 'A',\n",
    "                    np.logical_not(orders['visitorId'].isin(abnormalUsers)),\n",
    "                )\n",
    "            ]['revenue'],\n",
    "            orders[\n",
    "                np.logical_and(\n",
    "                    orders['group'] == 'B',\n",
    "                    np.logical_not(orders['visitorId'].isin(abnormalUsers)),\n",
    "                )\n",
    "            ]['revenue'],\n",
    "        )[1]\n",
    "    )\n",
    ")\n",
    "\n",
    "print(\n",
    "    \"{0:.3f}\".format(\n",
    "        orders[\n",
    "            np.logical_and(\n",
    "                orders['group'] == 'B',\n",
    "                np.logical_not(orders['visitorId'].isin(abnormalUsers)),\n",
    "            )\n",
    "        ]['revenue'].mean()\n",
    "        / orders[\n",
    "            np.logical_and(\n",
    "                orders['group'] == 'A',\n",
    "                np.logical_not(orders['visitorId'].isin(abnormalUsers)),\n",
    "            )\n",
    "        ]['revenue'].mean()\n",
    "        - 1\n",
    "    )\n",
    ") "
   ]
  },
  {
   "cell_type": "markdown",
   "metadata": {},
   "source": [
    "Статистическая значимость различий в средних чеках так и осталась недостаточной для того, чтобы отвергнуть нулевую гипотезу. Теперь можно с уверенностью сказать, что различий между группами А и В по этому параметру нет."
   ]
  },
  {
   "cell_type": "markdown",
   "metadata": {},
   "source": [
    "### Выводы по результатам теста, решение по дальнейшему проведению теста"
   ]
  },
  {
   "cell_type": "markdown",
   "metadata": {},
   "source": [
    "В результате проведенного исследования были получены следующие результаты:\n",
    "\n",
    "1. В ходе приоритизации была установлена гипотеза с наивысшим приоритетом: \"Добавить форму подписки на все основные страницы, чтобы собрать базу клиентов для email-рассылок\". Для приоритизации был использован фреймворк RICE, поскольку он учитывает все четыре важнейшие компонента:\n",
    "- Reach (охват пользователей, которых затронет изменение);\n",
    "- Impact (сила влияния изменений на пользователей, их опыт и удовлетворенность от продукта);\n",
    "- Confidence (степень уверенности в именно таком влиянии изменений на пользователей);\n",
    "- Efforts (затраты, которые необходимы для тестирования гипотезы).\n",
    "\n",
    "2. В ходе предобработки результатов тестирования было выявлено, что 58 пользователей попали в обе группы сразу. Поскольку пользователям демонстрировались обе версии сервиса, нельзя с уверенностью сказать, какая именно вервия повлияла на их решения о покупке. При последующих проведения тестирования следует обратить внимание на данный аспект и минимизировать вероятность попадания одного пользователя в две группы.\n",
    "\n",
    "\n",
    "3. В ходе анализа кумулятивных значений показателей выручки, конверсии и среднего чека были выявлены следующие особенности:\n",
    "- в середине теста имел место аномальный скачек, который привел к значительному увеличению преимущества группы B по размеру выручки и среднему чеку;\n",
    "- по количеству заказов почти с самого начала теста лидировала группа B, по этому показателю сильных скачков зафиксировано не было;\n",
    "- среднее количество заказов в группе B стабильно превышало среднее количество заказов в группе А, к концу теста относительный прирост среднего количества заказов группы B по отношению к группе А составил 16%.\n",
    "\n",
    "4. В ходе анализа распределения пользователей по количеству заказов и среднему чеку были сделаны следующие выводы:\n",
    "- основная часть пользователей оформляла по одному заказу;\n",
    "- более двух заказов оформили не более 1% пользователей;\n",
    "- только 7 пользователей оформили заказы 3 раза;\n",
    "- по среднему чеку были зафиксированы 2 наиболее явных выброса - заказы на сумму 200 тыс. рублей и 1,3 млн. рублей;\n",
    "- заказы на сумму более 53,9 тыс. рублей составили менее 1%.\n",
    "\n",
    "**Общий вывод по A/B тесту:**\n",
    "\n",
    "По рассмотренным графикам и расчетным показателям статистической значимости теста и относительного прироста можно принять решение об остановке теста и зафиксировать следующие выводы:\n",
    "1. Между группами существуют различия в количестве заказов на одного покупателя. Относительный прирост среднего количества заказов в группе B к группе А составил 20,5%.\n",
    "2. Между группами отсутствуют различия в средних чеках.\n",
    "\n",
    "На основе этих выводов можно рекомендовать к реализации изменения, тестируемые на группе B. Внедрение этой версии продукта позволит увеличить количество заказов на одного пользователя."
   ]
  }
 ],
 "metadata": {
  "ExecuteTimeLog": [
   {
    "duration": 434,
    "start_time": "2022-11-03T13:20:22.799Z"
   },
   {
    "duration": 71,
    "start_time": "2022-11-03T13:23:55.983Z"
   },
   {
    "duration": 10,
    "start_time": "2022-11-03T13:24:56.678Z"
   },
   {
    "duration": 253,
    "start_time": "2022-11-03T13:32:47.379Z"
   },
   {
    "duration": 230,
    "start_time": "2022-11-03T13:33:11.898Z"
   },
   {
    "duration": 8,
    "start_time": "2022-11-03T13:33:19.306Z"
   },
   {
    "duration": 8,
    "start_time": "2022-11-03T13:33:29.565Z"
   },
   {
    "duration": 9,
    "start_time": "2022-11-03T13:34:04.495Z"
   },
   {
    "duration": 33,
    "start_time": "2022-11-03T13:34:08.163Z"
   },
   {
    "duration": 8,
    "start_time": "2022-11-03T13:34:09.269Z"
   },
   {
    "duration": 8,
    "start_time": "2022-11-03T13:34:39.526Z"
   },
   {
    "duration": 8,
    "start_time": "2022-11-03T13:34:56.118Z"
   },
   {
    "duration": 8,
    "start_time": "2022-11-03T13:37:20.959Z"
   },
   {
    "duration": 8,
    "start_time": "2022-11-03T13:37:26.058Z"
   },
   {
    "duration": 12,
    "start_time": "2022-11-03T13:37:48.886Z"
   },
   {
    "duration": 44,
    "start_time": "2022-11-03T13:42:05.612Z"
   },
   {
    "duration": 31,
    "start_time": "2022-11-03T13:44:37.479Z"
   },
   {
    "duration": 11,
    "start_time": "2022-11-03T13:44:48.164Z"
   },
   {
    "duration": 14,
    "start_time": "2022-11-03T13:46:51.638Z"
   },
   {
    "duration": 11,
    "start_time": "2022-11-03T13:47:03.656Z"
   },
   {
    "duration": 11,
    "start_time": "2022-11-03T13:47:09.163Z"
   },
   {
    "duration": 12,
    "start_time": "2022-11-03T13:47:47.128Z"
   },
   {
    "duration": 34,
    "start_time": "2022-11-03T14:00:16.858Z"
   },
   {
    "duration": 483,
    "start_time": "2022-11-03T14:20:32.282Z"
   },
   {
    "duration": 154,
    "start_time": "2022-11-03T14:31:38.997Z"
   },
   {
    "duration": 71,
    "start_time": "2022-11-03T14:32:00.702Z"
   },
   {
    "duration": 70,
    "start_time": "2022-11-03T14:32:12.786Z"
   },
   {
    "duration": 11,
    "start_time": "2022-11-03T14:32:22.387Z"
   },
   {
    "duration": 67,
    "start_time": "2022-11-03T14:32:25.948Z"
   },
   {
    "duration": 9,
    "start_time": "2022-11-03T14:32:28.912Z"
   },
   {
    "duration": 10,
    "start_time": "2022-11-03T14:32:31.682Z"
   },
   {
    "duration": 12,
    "start_time": "2022-11-03T14:32:48.661Z"
   },
   {
    "duration": 245,
    "start_time": "2022-11-03T14:35:01.475Z"
   },
   {
    "duration": 216,
    "start_time": "2022-11-03T14:35:45.422Z"
   },
   {
    "duration": 196,
    "start_time": "2022-11-03T14:38:14.815Z"
   },
   {
    "duration": 815,
    "start_time": "2022-11-03T14:39:04.559Z"
   },
   {
    "duration": 40,
    "start_time": "2022-11-03T14:39:05.376Z"
   },
   {
    "duration": 12,
    "start_time": "2022-11-03T14:39:05.417Z"
   },
   {
    "duration": 13,
    "start_time": "2022-11-03T14:39:05.431Z"
   },
   {
    "duration": 69,
    "start_time": "2022-11-03T14:39:05.446Z"
   },
   {
    "duration": 7,
    "start_time": "2022-11-03T14:39:05.517Z"
   },
   {
    "duration": 20,
    "start_time": "2022-11-03T14:39:05.526Z"
   },
   {
    "duration": 31,
    "start_time": "2022-11-03T14:39:05.548Z"
   },
   {
    "duration": 29,
    "start_time": "2022-11-03T14:39:05.581Z"
   },
   {
    "duration": 596,
    "start_time": "2022-11-03T14:48:36.513Z"
   },
   {
    "duration": 539,
    "start_time": "2022-11-03T15:00:00.717Z"
   },
   {
    "duration": 546,
    "start_time": "2022-11-03T15:00:12.728Z"
   },
   {
    "duration": 482,
    "start_time": "2022-11-03T15:00:46.044Z"
   },
   {
    "duration": 418,
    "start_time": "2022-11-03T15:02:07.190Z"
   },
   {
    "duration": 747,
    "start_time": "2022-11-03T15:03:40.168Z"
   },
   {
    "duration": 179,
    "start_time": "2022-11-03T15:03:55.325Z"
   },
   {
    "duration": 197,
    "start_time": "2022-11-03T15:04:18.733Z"
   },
   {
    "duration": 476,
    "start_time": "2022-11-03T15:04:23.369Z"
   },
   {
    "duration": 191,
    "start_time": "2022-11-03T15:04:38.683Z"
   },
   {
    "duration": 177,
    "start_time": "2022-11-03T15:12:22.799Z"
   },
   {
    "duration": 415,
    "start_time": "2022-11-03T15:13:09.414Z"
   },
   {
    "duration": 409,
    "start_time": "2022-11-03T15:27:56.113Z"
   },
   {
    "duration": 403,
    "start_time": "2022-11-03T15:28:32.546Z"
   },
   {
    "duration": 415,
    "start_time": "2022-11-03T15:28:48.188Z"
   },
   {
    "duration": 164,
    "start_time": "2022-11-03T15:28:55.463Z"
   },
   {
    "duration": 329,
    "start_time": "2022-11-03T15:35:45.069Z"
   },
   {
    "duration": 272,
    "start_time": "2022-11-03T15:35:54.388Z"
   },
   {
    "duration": 165,
    "start_time": "2022-11-03T15:36:10.156Z"
   },
   {
    "duration": 244,
    "start_time": "2022-11-03T15:37:20.917Z"
   },
   {
    "duration": 169,
    "start_time": "2022-11-03T15:37:36.022Z"
   },
   {
    "duration": 169,
    "start_time": "2022-11-03T15:40:54.887Z"
   },
   {
    "duration": 259,
    "start_time": "2022-11-03T15:42:51.029Z"
   },
   {
    "duration": 9,
    "start_time": "2022-11-03T15:48:17.460Z"
   },
   {
    "duration": 176,
    "start_time": "2022-11-03T15:51:22.665Z"
   },
   {
    "duration": 10,
    "start_time": "2022-11-03T15:56:14.785Z"
   },
   {
    "duration": 257,
    "start_time": "2022-11-03T15:56:52.241Z"
   },
   {
    "duration": 277,
    "start_time": "2022-11-03T16:01:08.649Z"
   },
   {
    "duration": 1118,
    "start_time": "2022-11-04T03:30:02.659Z"
   },
   {
    "duration": 100,
    "start_time": "2022-11-04T03:30:03.779Z"
   },
   {
    "duration": 13,
    "start_time": "2022-11-04T03:30:03.880Z"
   },
   {
    "duration": 32,
    "start_time": "2022-11-04T03:30:03.894Z"
   },
   {
    "duration": 187,
    "start_time": "2022-11-04T03:30:03.927Z"
   },
   {
    "duration": 7,
    "start_time": "2022-11-04T03:30:04.116Z"
   },
   {
    "duration": 42,
    "start_time": "2022-11-04T03:30:04.124Z"
   },
   {
    "duration": 28,
    "start_time": "2022-11-04T03:30:04.168Z"
   },
   {
    "duration": 46,
    "start_time": "2022-11-04T03:30:04.198Z"
   },
   {
    "duration": 119,
    "start_time": "2022-11-04T03:30:04.246Z"
   },
   {
    "duration": 0,
    "start_time": "2022-11-04T03:30:04.366Z"
   },
   {
    "duration": 0,
    "start_time": "2022-11-04T03:30:04.368Z"
   },
   {
    "duration": 0,
    "start_time": "2022-11-04T03:30:04.369Z"
   },
   {
    "duration": 0,
    "start_time": "2022-11-04T03:30:04.370Z"
   },
   {
    "duration": 1,
    "start_time": "2022-11-04T03:30:04.370Z"
   },
   {
    "duration": 0,
    "start_time": "2022-11-04T03:30:04.372Z"
   },
   {
    "duration": 267,
    "start_time": "2022-11-04T03:32:33.693Z"
   },
   {
    "duration": 250,
    "start_time": "2022-11-04T03:32:39.921Z"
   },
   {
    "duration": 158,
    "start_time": "2022-11-04T03:34:09.538Z"
   },
   {
    "duration": 46,
    "start_time": "2022-11-04T03:34:34.470Z"
   },
   {
    "duration": 168,
    "start_time": "2022-11-04T03:34:50.293Z"
   },
   {
    "duration": 180,
    "start_time": "2022-11-04T03:35:05.565Z"
   },
   {
    "duration": 155,
    "start_time": "2022-11-04T03:35:12.970Z"
   },
   {
    "duration": 170,
    "start_time": "2022-11-04T03:35:19.423Z"
   },
   {
    "duration": 176,
    "start_time": "2022-11-04T03:36:07.111Z"
   },
   {
    "duration": 170,
    "start_time": "2022-11-04T03:36:14.145Z"
   },
   {
    "duration": 162,
    "start_time": "2022-11-04T03:36:23.103Z"
   },
   {
    "duration": 192,
    "start_time": "2022-11-04T03:36:48.729Z"
   },
   {
    "duration": 160,
    "start_time": "2022-11-04T03:40:00.772Z"
   },
   {
    "duration": 159,
    "start_time": "2022-11-04T03:41:07.844Z"
   },
   {
    "duration": 166,
    "start_time": "2022-11-04T03:43:11.373Z"
   },
   {
    "duration": 172,
    "start_time": "2022-11-04T03:43:20.433Z"
   },
   {
    "duration": 161,
    "start_time": "2022-11-04T03:43:26.626Z"
   },
   {
    "duration": 176,
    "start_time": "2022-11-04T03:43:38.148Z"
   },
   {
    "duration": 193,
    "start_time": "2022-11-04T03:45:02.965Z"
   },
   {
    "duration": 228,
    "start_time": "2022-11-04T03:45:31.635Z"
   },
   {
    "duration": 177,
    "start_time": "2022-11-04T03:47:54.484Z"
   },
   {
    "duration": 194,
    "start_time": "2022-11-04T03:48:15.622Z"
   },
   {
    "duration": 180,
    "start_time": "2022-11-04T03:48:31.823Z"
   },
   {
    "duration": 183,
    "start_time": "2022-11-04T03:49:12.402Z"
   },
   {
    "duration": 188,
    "start_time": "2022-11-04T03:49:19.034Z"
   },
   {
    "duration": 208,
    "start_time": "2022-11-04T03:52:58.861Z"
   },
   {
    "duration": 192,
    "start_time": "2022-11-04T03:54:44.545Z"
   },
   {
    "duration": 183,
    "start_time": "2022-11-04T03:54:59.662Z"
   },
   {
    "duration": 191,
    "start_time": "2022-11-04T03:55:20.981Z"
   },
   {
    "duration": 352,
    "start_time": "2022-11-04T03:56:38.774Z"
   },
   {
    "duration": 377,
    "start_time": "2022-11-04T03:57:45.920Z"
   },
   {
    "duration": 338,
    "start_time": "2022-11-04T03:59:03.325Z"
   },
   {
    "duration": 287,
    "start_time": "2022-11-04T03:59:15.552Z"
   },
   {
    "duration": 253,
    "start_time": "2022-11-04T03:59:46.461Z"
   },
   {
    "duration": 267,
    "start_time": "2022-11-04T04:00:00.365Z"
   },
   {
    "duration": 296,
    "start_time": "2022-11-04T04:00:11.158Z"
   },
   {
    "duration": 290,
    "start_time": "2022-11-04T04:01:03.052Z"
   },
   {
    "duration": 325,
    "start_time": "2022-11-04T04:01:10.810Z"
   },
   {
    "duration": 283,
    "start_time": "2022-11-04T04:01:42.057Z"
   },
   {
    "duration": 8,
    "start_time": "2022-11-04T04:03:47.590Z"
   },
   {
    "duration": 147,
    "start_time": "2022-11-04T04:03:51.047Z"
   },
   {
    "duration": 151,
    "start_time": "2022-11-04T04:05:03.060Z"
   },
   {
    "duration": 279,
    "start_time": "2022-11-04T04:07:01.894Z"
   },
   {
    "duration": 137,
    "start_time": "2022-11-04T04:09:22.280Z"
   },
   {
    "duration": 185,
    "start_time": "2022-11-04T04:09:34.530Z"
   },
   {
    "duration": 10,
    "start_time": "2022-11-04T04:13:29.139Z"
   },
   {
    "duration": 18,
    "start_time": "2022-11-04T04:16:38.013Z"
   },
   {
    "duration": 19,
    "start_time": "2022-11-04T04:17:14.232Z"
   },
   {
    "duration": 169,
    "start_time": "2022-11-04T04:18:43.145Z"
   },
   {
    "duration": 22,
    "start_time": "2022-11-04T04:18:55.082Z"
   },
   {
    "duration": 205,
    "start_time": "2022-11-04T04:25:18.994Z"
   },
   {
    "duration": 197,
    "start_time": "2022-11-04T04:25:53.701Z"
   },
   {
    "duration": 234,
    "start_time": "2022-11-04T04:26:15.538Z"
   },
   {
    "duration": 200,
    "start_time": "2022-11-04T04:26:54.808Z"
   },
   {
    "duration": 307,
    "start_time": "2022-11-04T04:28:58.758Z"
   },
   {
    "duration": 283,
    "start_time": "2022-11-04T04:29:56.841Z"
   },
   {
    "duration": 365,
    "start_time": "2022-11-04T04:30:16.777Z"
   },
   {
    "duration": 21,
    "start_time": "2022-11-04T04:30:56.026Z"
   },
   {
    "duration": 5,
    "start_time": "2022-11-04T04:31:16.563Z"
   },
   {
    "duration": 5,
    "start_time": "2022-11-04T04:31:33.578Z"
   },
   {
    "duration": 294,
    "start_time": "2022-11-04T04:31:43.269Z"
   },
   {
    "duration": 305,
    "start_time": "2022-11-04T04:33:47.326Z"
   },
   {
    "duration": 349,
    "start_time": "2022-11-04T04:33:59.292Z"
   },
   {
    "duration": 373,
    "start_time": "2022-11-04T04:34:28.702Z"
   },
   {
    "duration": 263,
    "start_time": "2022-11-04T04:35:53.373Z"
   },
   {
    "duration": 307,
    "start_time": "2022-11-04T04:36:34.790Z"
   },
   {
    "duration": 301,
    "start_time": "2022-11-04T04:36:44.966Z"
   },
   {
    "duration": 298,
    "start_time": "2022-11-04T04:37:02.707Z"
   },
   {
    "duration": 322,
    "start_time": "2022-11-04T04:38:19.424Z"
   },
   {
    "duration": 343,
    "start_time": "2022-11-04T04:39:12.489Z"
   },
   {
    "duration": 43,
    "start_time": "2022-11-04T04:40:00.267Z"
   },
   {
    "duration": 358,
    "start_time": "2022-11-04T04:40:25.600Z"
   },
   {
    "duration": 437,
    "start_time": "2022-11-04T04:40:59.419Z"
   },
   {
    "duration": 378,
    "start_time": "2022-11-04T04:42:18.725Z"
   },
   {
    "duration": 286,
    "start_time": "2022-11-04T04:42:27.678Z"
   },
   {
    "duration": 299,
    "start_time": "2022-11-04T04:42:32.339Z"
   },
   {
    "duration": 316,
    "start_time": "2022-11-04T04:42:35.783Z"
   },
   {
    "duration": 312,
    "start_time": "2022-11-04T04:42:43.093Z"
   },
   {
    "duration": 304,
    "start_time": "2022-11-04T04:44:25.073Z"
   },
   {
    "duration": 292,
    "start_time": "2022-11-04T04:44:32.782Z"
   },
   {
    "duration": 260,
    "start_time": "2022-11-04T04:44:39.964Z"
   },
   {
    "duration": 298,
    "start_time": "2022-11-04T04:44:46.329Z"
   },
   {
    "duration": 331,
    "start_time": "2022-11-04T04:44:52.505Z"
   },
   {
    "duration": 299,
    "start_time": "2022-11-04T04:45:04.733Z"
   },
   {
    "duration": 400,
    "start_time": "2022-11-04T04:45:14.346Z"
   },
   {
    "duration": 295,
    "start_time": "2022-11-04T04:48:38.445Z"
   },
   {
    "duration": 323,
    "start_time": "2022-11-04T04:48:49.810Z"
   },
   {
    "duration": 9,
    "start_time": "2022-11-04T04:52:40.057Z"
   },
   {
    "duration": 8,
    "start_time": "2022-11-04T04:52:57.225Z"
   },
   {
    "duration": 12,
    "start_time": "2022-11-04T04:53:15.720Z"
   },
   {
    "duration": 103,
    "start_time": "2022-11-04T04:54:25.327Z"
   },
   {
    "duration": 114,
    "start_time": "2022-11-04T05:03:06.622Z"
   },
   {
    "duration": 240,
    "start_time": "2022-11-04T05:03:39.819Z"
   },
   {
    "duration": 299,
    "start_time": "2022-11-04T05:04:41.799Z"
   },
   {
    "duration": 230,
    "start_time": "2022-11-04T05:04:48.160Z"
   },
   {
    "duration": 5,
    "start_time": "2022-11-04T05:07:24.245Z"
   },
   {
    "duration": 127,
    "start_time": "2022-11-04T05:09:53.360Z"
   },
   {
    "duration": 4,
    "start_time": "2022-11-04T05:10:32.448Z"
   },
   {
    "duration": 121,
    "start_time": "2022-11-04T05:10:46.325Z"
   },
   {
    "duration": 15,
    "start_time": "2022-11-04T05:14:22.477Z"
   },
   {
    "duration": 12,
    "start_time": "2022-11-04T05:15:21.650Z"
   },
   {
    "duration": 4,
    "start_time": "2022-11-04T05:16:25.979Z"
   },
   {
    "duration": 56,
    "start_time": "2022-11-04T05:16:34.169Z"
   },
   {
    "duration": 686,
    "start_time": "2022-11-04T05:16:51.885Z"
   },
   {
    "duration": 4,
    "start_time": "2022-11-04T05:17:10.623Z"
   },
   {
    "duration": 137,
    "start_time": "2022-11-04T05:22:24.189Z"
   },
   {
    "duration": 125,
    "start_time": "2022-11-04T05:23:23.497Z"
   },
   {
    "duration": 270,
    "start_time": "2022-11-04T05:23:46.290Z"
   },
   {
    "duration": 268,
    "start_time": "2022-11-04T05:23:57.902Z"
   },
   {
    "duration": 238,
    "start_time": "2022-11-04T05:24:42.393Z"
   },
   {
    "duration": 4,
    "start_time": "2022-11-04T05:24:54.136Z"
   },
   {
    "duration": 130,
    "start_time": "2022-11-04T05:27:01.544Z"
   },
   {
    "duration": 126,
    "start_time": "2022-11-04T05:27:06.084Z"
   },
   {
    "duration": 7,
    "start_time": "2022-11-04T05:33:16.350Z"
   },
   {
    "duration": 7,
    "start_time": "2022-11-04T05:33:31.465Z"
   },
   {
    "duration": 109,
    "start_time": "2022-11-04T05:36:37.991Z"
   },
   {
    "duration": 113,
    "start_time": "2022-11-04T05:38:44.153Z"
   },
   {
    "duration": 107,
    "start_time": "2022-11-04T05:39:03.416Z"
   },
   {
    "duration": 225,
    "start_time": "2022-11-04T05:39:29.388Z"
   },
   {
    "duration": 234,
    "start_time": "2022-11-04T05:39:47.294Z"
   },
   {
    "duration": 215,
    "start_time": "2022-11-04T05:40:10.061Z"
   },
   {
    "duration": 216,
    "start_time": "2022-11-04T05:40:27.556Z"
   },
   {
    "duration": 231,
    "start_time": "2022-11-04T05:40:46.566Z"
   },
   {
    "duration": 290,
    "start_time": "2022-11-04T05:44:20.770Z"
   },
   {
    "duration": 132,
    "start_time": "2022-11-04T05:47:21.510Z"
   },
   {
    "duration": 1030,
    "start_time": "2022-11-04T05:47:59.929Z"
   },
   {
    "duration": 91,
    "start_time": "2022-11-04T05:48:00.961Z"
   },
   {
    "duration": 12,
    "start_time": "2022-11-04T05:48:01.053Z"
   },
   {
    "duration": 35,
    "start_time": "2022-11-04T05:48:01.068Z"
   },
   {
    "duration": 75,
    "start_time": "2022-11-04T05:48:01.104Z"
   },
   {
    "duration": 8,
    "start_time": "2022-11-04T05:48:01.180Z"
   },
   {
    "duration": 32,
    "start_time": "2022-11-04T05:48:01.189Z"
   },
   {
    "duration": 22,
    "start_time": "2022-11-04T05:48:01.223Z"
   },
   {
    "duration": 56,
    "start_time": "2022-11-04T05:48:01.247Z"
   },
   {
    "duration": 317,
    "start_time": "2022-11-04T05:48:01.305Z"
   },
   {
    "duration": 280,
    "start_time": "2022-11-04T05:48:01.624Z"
   },
   {
    "duration": 195,
    "start_time": "2022-11-04T05:48:01.905Z"
   },
   {
    "duration": 330,
    "start_time": "2022-11-04T05:48:02.102Z"
   },
   {
    "duration": 219,
    "start_time": "2022-11-04T05:48:02.434Z"
   },
   {
    "duration": 293,
    "start_time": "2022-11-04T05:48:02.655Z"
   },
   {
    "duration": 8,
    "start_time": "2022-11-04T05:48:02.949Z"
   },
   {
    "duration": 154,
    "start_time": "2022-11-04T05:48:02.959Z"
   },
   {
    "duration": 12,
    "start_time": "2022-11-04T05:48:03.115Z"
   },
   {
    "duration": 149,
    "start_time": "2022-11-04T05:48:03.129Z"
   },
   {
    "duration": 4,
    "start_time": "2022-11-04T05:48:03.280Z"
   },
   {
    "duration": 485,
    "start_time": "2022-11-04T05:48:03.286Z"
   },
   {
    "duration": 420,
    "start_time": "2022-11-04T05:48:21.487Z"
   },
   {
    "duration": 23,
    "start_time": "2022-11-04T05:50:10.682Z"
   },
   {
    "duration": 13,
    "start_time": "2022-11-04T05:56:48.221Z"
   },
   {
    "duration": 24,
    "start_time": "2022-11-04T05:57:26.139Z"
   },
   {
    "duration": 39,
    "start_time": "2022-11-04T05:57:46.391Z"
   },
   {
    "duration": 34,
    "start_time": "2022-11-04T05:57:54.814Z"
   },
   {
    "duration": 140,
    "start_time": "2022-11-04T06:01:44.506Z"
   },
   {
    "duration": 123,
    "start_time": "2022-11-04T06:04:10.784Z"
   },
   {
    "duration": 315,
    "start_time": "2022-11-04T06:05:37.901Z"
   },
   {
    "duration": 37,
    "start_time": "2022-11-04T06:06:47.561Z"
   },
   {
    "duration": 973,
    "start_time": "2022-11-04T06:20:33.137Z"
   },
   {
    "duration": 16,
    "start_time": "2022-11-04T06:20:55.756Z"
   },
   {
    "duration": 1072,
    "start_time": "2022-11-04T06:34:26.341Z"
   },
   {
    "duration": 91,
    "start_time": "2022-11-04T06:34:27.416Z"
   },
   {
    "duration": 23,
    "start_time": "2022-11-04T06:34:27.510Z"
   },
   {
    "duration": 35,
    "start_time": "2022-11-04T06:34:27.538Z"
   },
   {
    "duration": 89,
    "start_time": "2022-11-04T06:34:27.574Z"
   },
   {
    "duration": 11,
    "start_time": "2022-11-04T06:34:27.665Z"
   },
   {
    "duration": 22,
    "start_time": "2022-11-04T06:34:27.677Z"
   },
   {
    "duration": 27,
    "start_time": "2022-11-04T06:34:27.702Z"
   },
   {
    "duration": 28,
    "start_time": "2022-11-04T06:34:27.731Z"
   },
   {
    "duration": 301,
    "start_time": "2022-11-04T06:34:27.762Z"
   },
   {
    "duration": 351,
    "start_time": "2022-11-04T06:34:28.066Z"
   },
   {
    "duration": 226,
    "start_time": "2022-11-04T06:34:28.419Z"
   },
   {
    "duration": 394,
    "start_time": "2022-11-04T06:34:28.647Z"
   },
   {
    "duration": 286,
    "start_time": "2022-11-04T06:34:29.043Z"
   },
   {
    "duration": 338,
    "start_time": "2022-11-04T06:34:29.331Z"
   },
   {
    "duration": 8,
    "start_time": "2022-11-04T06:34:29.671Z"
   },
   {
    "duration": 144,
    "start_time": "2022-11-04T06:34:29.680Z"
   },
   {
    "duration": 9,
    "start_time": "2022-11-04T06:34:29.826Z"
   },
   {
    "duration": 152,
    "start_time": "2022-11-04T06:34:29.837Z"
   },
   {
    "duration": 5,
    "start_time": "2022-11-04T06:34:29.991Z"
   },
   {
    "duration": 479,
    "start_time": "2022-11-04T06:34:29.997Z"
   },
   {
    "duration": 44,
    "start_time": "2022-11-04T06:34:30.478Z"
   },
   {
    "duration": 15,
    "start_time": "2022-11-04T06:34:30.524Z"
   },
   {
    "duration": 147,
    "start_time": "2022-11-04T06:34:30.541Z"
   },
   {
    "duration": 109,
    "start_time": "2022-11-04T06:34:30.689Z"
   },
   {
    "duration": 0,
    "start_time": "2022-11-04T06:34:30.799Z"
   },
   {
    "duration": 1086,
    "start_time": "2022-11-04T06:34:51.842Z"
   },
   {
    "duration": 131,
    "start_time": "2022-11-04T06:34:52.932Z"
   },
   {
    "duration": 20,
    "start_time": "2022-11-04T06:34:53.065Z"
   },
   {
    "duration": 22,
    "start_time": "2022-11-04T06:34:53.087Z"
   },
   {
    "duration": 68,
    "start_time": "2022-11-04T06:34:53.111Z"
   },
   {
    "duration": 8,
    "start_time": "2022-11-04T06:34:53.180Z"
   },
   {
    "duration": 39,
    "start_time": "2022-11-04T06:34:53.189Z"
   },
   {
    "duration": 43,
    "start_time": "2022-11-04T06:34:53.230Z"
   },
   {
    "duration": 37,
    "start_time": "2022-11-04T06:34:53.275Z"
   },
   {
    "duration": 354,
    "start_time": "2022-11-04T06:34:53.316Z"
   },
   {
    "duration": 291,
    "start_time": "2022-11-04T06:34:53.672Z"
   },
   {
    "duration": 225,
    "start_time": "2022-11-04T06:34:53.966Z"
   },
   {
    "duration": 376,
    "start_time": "2022-11-04T06:34:54.193Z"
   },
   {
    "duration": 232,
    "start_time": "2022-11-04T06:34:54.571Z"
   },
   {
    "duration": 379,
    "start_time": "2022-11-04T06:34:54.805Z"
   },
   {
    "duration": 9,
    "start_time": "2022-11-04T06:34:55.185Z"
   },
   {
    "duration": 197,
    "start_time": "2022-11-04T06:34:55.195Z"
   },
   {
    "duration": 5,
    "start_time": "2022-11-04T06:34:55.394Z"
   },
   {
    "duration": 204,
    "start_time": "2022-11-04T06:34:55.401Z"
   },
   {
    "duration": 6,
    "start_time": "2022-11-04T06:34:55.607Z"
   },
   {
    "duration": 505,
    "start_time": "2022-11-04T06:34:55.615Z"
   },
   {
    "duration": 32,
    "start_time": "2022-11-04T06:34:56.123Z"
   },
   {
    "duration": 15,
    "start_time": "2022-11-04T06:34:56.156Z"
   },
   {
    "duration": 159,
    "start_time": "2022-11-04T06:34:56.173Z"
   },
   {
    "duration": 382,
    "start_time": "2022-11-04T06:34:56.335Z"
   },
   {
    "duration": 36,
    "start_time": "2022-11-04T06:34:56.718Z"
   },
   {
    "duration": 17,
    "start_time": "2022-11-04T06:34:56.756Z"
   },
   {
    "duration": 8,
    "start_time": "2022-11-04T07:08:51.253Z"
   },
   {
    "duration": 10,
    "start_time": "2022-11-04T07:10:01.179Z"
   },
   {
    "duration": 108,
    "start_time": "2022-11-04T07:15:32.659Z"
   },
   {
    "duration": 10,
    "start_time": "2022-11-04T07:16:06.386Z"
   },
   {
    "duration": 11,
    "start_time": "2022-11-04T07:16:29.847Z"
   },
   {
    "duration": 9,
    "start_time": "2022-11-04T07:35:12.158Z"
   },
   {
    "duration": 9,
    "start_time": "2022-11-04T07:35:13.243Z"
   },
   {
    "duration": 1056,
    "start_time": "2022-11-04T07:35:39.514Z"
   },
   {
    "duration": 92,
    "start_time": "2022-11-04T07:35:40.573Z"
   },
   {
    "duration": 11,
    "start_time": "2022-11-04T07:35:40.667Z"
   },
   {
    "duration": 11,
    "start_time": "2022-11-04T07:35:40.681Z"
   },
   {
    "duration": 61,
    "start_time": "2022-11-04T07:35:40.694Z"
   },
   {
    "duration": 8,
    "start_time": "2022-11-04T07:35:40.756Z"
   },
   {
    "duration": 15,
    "start_time": "2022-11-04T07:35:40.766Z"
   },
   {
    "duration": 17,
    "start_time": "2022-11-04T07:35:40.783Z"
   },
   {
    "duration": 16,
    "start_time": "2022-11-04T07:35:40.802Z"
   },
   {
    "duration": 317,
    "start_time": "2022-11-04T07:35:40.820Z"
   },
   {
    "duration": 340,
    "start_time": "2022-11-04T07:35:41.139Z"
   },
   {
    "duration": 307,
    "start_time": "2022-11-04T07:35:41.482Z"
   },
   {
    "duration": 423,
    "start_time": "2022-11-04T07:35:41.791Z"
   },
   {
    "duration": 298,
    "start_time": "2022-11-04T07:35:42.217Z"
   },
   {
    "duration": 342,
    "start_time": "2022-11-04T07:35:42.522Z"
   },
   {
    "duration": 9,
    "start_time": "2022-11-04T07:35:42.866Z"
   },
   {
    "duration": 149,
    "start_time": "2022-11-04T07:35:42.877Z"
   },
   {
    "duration": 5,
    "start_time": "2022-11-04T07:35:43.028Z"
   },
   {
    "duration": 172,
    "start_time": "2022-11-04T07:35:43.035Z"
   },
   {
    "duration": 4,
    "start_time": "2022-11-04T07:35:43.209Z"
   },
   {
    "duration": 448,
    "start_time": "2022-11-04T07:35:43.222Z"
   },
   {
    "duration": 22,
    "start_time": "2022-11-04T07:35:43.672Z"
   },
   {
    "duration": 26,
    "start_time": "2022-11-04T07:35:43.696Z"
   },
   {
    "duration": 136,
    "start_time": "2022-11-04T07:35:43.723Z"
   },
   {
    "duration": 319,
    "start_time": "2022-11-04T07:35:43.861Z"
   },
   {
    "duration": 26,
    "start_time": "2022-11-04T07:35:44.182Z"
   },
   {
    "duration": 21,
    "start_time": "2022-11-04T07:35:44.210Z"
   },
   {
    "duration": 14,
    "start_time": "2022-11-04T07:35:44.234Z"
   },
   {
    "duration": 18,
    "start_time": "2022-11-04T07:35:44.250Z"
   },
   {
    "duration": 1281,
    "start_time": "2022-11-04T13:42:05.461Z"
   },
   {
    "duration": 131,
    "start_time": "2022-11-04T13:42:06.744Z"
   },
   {
    "duration": 11,
    "start_time": "2022-11-04T13:42:06.876Z"
   },
   {
    "duration": 10,
    "start_time": "2022-11-04T13:42:06.889Z"
   },
   {
    "duration": 135,
    "start_time": "2022-11-04T13:42:06.900Z"
   },
   {
    "duration": 7,
    "start_time": "2022-11-04T13:42:07.037Z"
   },
   {
    "duration": 14,
    "start_time": "2022-11-04T13:42:07.045Z"
   },
   {
    "duration": 11,
    "start_time": "2022-11-04T13:42:07.061Z"
   },
   {
    "duration": 13,
    "start_time": "2022-11-04T13:42:07.074Z"
   },
   {
    "duration": 298,
    "start_time": "2022-11-04T13:42:07.090Z"
   },
   {
    "duration": 279,
    "start_time": "2022-11-04T13:42:07.390Z"
   },
   {
    "duration": 211,
    "start_time": "2022-11-04T13:42:07.671Z"
   },
   {
    "duration": 401,
    "start_time": "2022-11-04T13:42:07.883Z"
   },
   {
    "duration": 223,
    "start_time": "2022-11-04T13:42:08.286Z"
   },
   {
    "duration": 347,
    "start_time": "2022-11-04T13:42:08.511Z"
   },
   {
    "duration": 8,
    "start_time": "2022-11-04T13:42:08.859Z"
   },
   {
    "duration": 145,
    "start_time": "2022-11-04T13:42:08.869Z"
   },
   {
    "duration": 4,
    "start_time": "2022-11-04T13:42:09.016Z"
   },
   {
    "duration": 150,
    "start_time": "2022-11-04T13:42:09.033Z"
   },
   {
    "duration": 4,
    "start_time": "2022-11-04T13:42:09.184Z"
   },
   {
    "duration": 460,
    "start_time": "2022-11-04T13:42:09.189Z"
   },
   {
    "duration": 23,
    "start_time": "2022-11-04T13:42:09.651Z"
   },
   {
    "duration": 13,
    "start_time": "2022-11-04T13:42:09.675Z"
   },
   {
    "duration": 162,
    "start_time": "2022-11-04T13:42:09.690Z"
   },
   {
    "duration": 338,
    "start_time": "2022-11-04T13:42:09.854Z"
   },
   {
    "duration": 26,
    "start_time": "2022-11-04T13:42:10.194Z"
   },
   {
    "duration": 17,
    "start_time": "2022-11-04T13:42:10.221Z"
   },
   {
    "duration": 9,
    "start_time": "2022-11-04T13:42:10.241Z"
   },
   {
    "duration": 13,
    "start_time": "2022-11-04T13:42:10.251Z"
   },
   {
    "duration": 52,
    "start_time": "2022-11-04T14:08:35.754Z"
   },
   {
    "duration": 1364,
    "start_time": "2022-11-04T14:08:46.870Z"
   },
   {
    "duration": 138,
    "start_time": "2022-11-04T14:08:48.241Z"
   },
   {
    "duration": 14,
    "start_time": "2022-11-04T14:08:48.381Z"
   },
   {
    "duration": 16,
    "start_time": "2022-11-04T14:08:48.398Z"
   },
   {
    "duration": 153,
    "start_time": "2022-11-04T14:08:48.416Z"
   },
   {
    "duration": 8,
    "start_time": "2022-11-04T14:08:48.570Z"
   },
   {
    "duration": 18,
    "start_time": "2022-11-04T14:08:48.580Z"
   },
   {
    "duration": 17,
    "start_time": "2022-11-04T14:08:48.600Z"
   },
   {
    "duration": 20,
    "start_time": "2022-11-04T14:08:48.619Z"
   },
   {
    "duration": 324,
    "start_time": "2022-11-04T14:08:48.650Z"
   },
   {
    "duration": 343,
    "start_time": "2022-11-04T14:08:48.976Z"
   },
   {
    "duration": 256,
    "start_time": "2022-11-04T14:08:49.321Z"
   },
   {
    "duration": 428,
    "start_time": "2022-11-04T14:08:49.579Z"
   },
   {
    "duration": 286,
    "start_time": "2022-11-04T14:08:50.010Z"
   },
   {
    "duration": 388,
    "start_time": "2022-11-04T14:08:50.299Z"
   },
   {
    "duration": 10,
    "start_time": "2022-11-04T14:08:50.689Z"
   },
   {
    "duration": 188,
    "start_time": "2022-11-04T14:08:50.700Z"
   },
   {
    "duration": 5,
    "start_time": "2022-11-04T14:08:50.890Z"
   },
   {
    "duration": 191,
    "start_time": "2022-11-04T14:08:50.897Z"
   },
   {
    "duration": 5,
    "start_time": "2022-11-04T14:08:51.090Z"
   },
   {
    "duration": 586,
    "start_time": "2022-11-04T14:08:51.097Z"
   },
   {
    "duration": 25,
    "start_time": "2022-11-04T14:08:51.684Z"
   },
   {
    "duration": 28,
    "start_time": "2022-11-04T14:08:51.711Z"
   },
   {
    "duration": 190,
    "start_time": "2022-11-04T14:08:51.745Z"
   },
   {
    "duration": 402,
    "start_time": "2022-11-04T14:08:51.937Z"
   },
   {
    "duration": 24,
    "start_time": "2022-11-04T14:08:52.343Z"
   },
   {
    "duration": 42,
    "start_time": "2022-11-04T14:08:52.369Z"
   },
   {
    "duration": 18,
    "start_time": "2022-11-04T14:08:52.414Z"
   },
   {
    "duration": 16,
    "start_time": "2022-11-04T14:08:52.434Z"
   },
   {
    "duration": 6,
    "start_time": "2022-11-04T14:29:18.619Z"
   },
   {
    "duration": 10,
    "start_time": "2022-11-04T14:29:40.168Z"
   },
   {
    "duration": 5,
    "start_time": "2022-11-04T14:29:45.950Z"
   },
   {
    "duration": 7,
    "start_time": "2022-11-04T14:32:16.683Z"
   },
   {
    "duration": 1397,
    "start_time": "2022-11-04T14:37:06.271Z"
   },
   {
    "duration": 27,
    "start_time": "2022-11-04T14:37:26.399Z"
   },
   {
    "duration": 27,
    "start_time": "2022-11-04T14:41:53.444Z"
   },
   {
    "duration": 13,
    "start_time": "2022-11-04T14:42:18.237Z"
   },
   {
    "duration": 8,
    "start_time": "2022-11-04T14:48:20.272Z"
   },
   {
    "duration": 14,
    "start_time": "2022-11-04T14:48:26.885Z"
   },
   {
    "duration": 10,
    "start_time": "2022-11-04T14:48:50.376Z"
   },
   {
    "duration": 15,
    "start_time": "2022-11-04T14:49:05.394Z"
   },
   {
    "duration": 14,
    "start_time": "2022-11-04T14:49:15.012Z"
   },
   {
    "duration": 13,
    "start_time": "2022-11-04T14:49:26.693Z"
   },
   {
    "duration": 11,
    "start_time": "2022-11-04T14:49:59.586Z"
   },
   {
    "duration": 21,
    "start_time": "2022-11-04T14:50:15.467Z"
   },
   {
    "duration": 31,
    "start_time": "2022-11-04T14:54:55.829Z"
   },
   {
    "duration": 19,
    "start_time": "2022-11-04T14:55:41.681Z"
   },
   {
    "duration": 32,
    "start_time": "2022-11-04T14:55:54.841Z"
   },
   {
    "duration": 26,
    "start_time": "2022-11-04T14:56:42.152Z"
   },
   {
    "duration": 17,
    "start_time": "2022-11-04T14:56:48.680Z"
   },
   {
    "duration": 23,
    "start_time": "2022-11-04T14:56:58.286Z"
   },
   {
    "duration": 32,
    "start_time": "2022-11-04T14:57:08.322Z"
   },
   {
    "duration": 19,
    "start_time": "2022-11-04T14:58:19.986Z"
   },
   {
    "duration": 23,
    "start_time": "2022-11-04T15:00:25.175Z"
   },
   {
    "duration": 1341,
    "start_time": "2022-11-04T15:00:43.585Z"
   },
   {
    "duration": 129,
    "start_time": "2022-11-04T15:00:44.928Z"
   },
   {
    "duration": 22,
    "start_time": "2022-11-04T15:00:45.060Z"
   },
   {
    "duration": 20,
    "start_time": "2022-11-04T15:00:45.090Z"
   },
   {
    "duration": 94,
    "start_time": "2022-11-04T15:00:45.112Z"
   },
   {
    "duration": 8,
    "start_time": "2022-11-04T15:00:45.208Z"
   },
   {
    "duration": 37,
    "start_time": "2022-11-04T15:00:45.218Z"
   },
   {
    "duration": 30,
    "start_time": "2022-11-04T15:00:45.257Z"
   },
   {
    "duration": 35,
    "start_time": "2022-11-04T15:00:45.290Z"
   },
   {
    "duration": 29,
    "start_time": "2022-11-04T15:00:45.329Z"
   },
   {
    "duration": 37,
    "start_time": "2022-11-04T15:00:45.360Z"
   },
   {
    "duration": 52,
    "start_time": "2022-11-04T15:00:45.399Z"
   },
   {
    "duration": 175,
    "start_time": "2022-11-04T15:00:45.454Z"
   },
   {
    "duration": 0,
    "start_time": "2022-11-04T15:00:45.634Z"
   },
   {
    "duration": 0,
    "start_time": "2022-11-04T15:00:45.636Z"
   },
   {
    "duration": 0,
    "start_time": "2022-11-04T15:00:45.637Z"
   },
   {
    "duration": 0,
    "start_time": "2022-11-04T15:00:45.638Z"
   },
   {
    "duration": 0,
    "start_time": "2022-11-04T15:00:45.640Z"
   },
   {
    "duration": 0,
    "start_time": "2022-11-04T15:00:45.641Z"
   },
   {
    "duration": 0,
    "start_time": "2022-11-04T15:00:45.642Z"
   },
   {
    "duration": 0,
    "start_time": "2022-11-04T15:00:45.644Z"
   },
   {
    "duration": 0,
    "start_time": "2022-11-04T15:00:45.646Z"
   },
   {
    "duration": 0,
    "start_time": "2022-11-04T15:00:45.647Z"
   },
   {
    "duration": 0,
    "start_time": "2022-11-04T15:00:45.648Z"
   },
   {
    "duration": 0,
    "start_time": "2022-11-04T15:00:45.650Z"
   },
   {
    "duration": 0,
    "start_time": "2022-11-04T15:00:45.651Z"
   },
   {
    "duration": 0,
    "start_time": "2022-11-04T15:00:45.652Z"
   },
   {
    "duration": 0,
    "start_time": "2022-11-04T15:00:45.653Z"
   },
   {
    "duration": 0,
    "start_time": "2022-11-04T15:00:45.655Z"
   },
   {
    "duration": 0,
    "start_time": "2022-11-04T15:00:45.656Z"
   },
   {
    "duration": 0,
    "start_time": "2022-11-04T15:00:45.658Z"
   },
   {
    "duration": 13,
    "start_time": "2022-11-04T15:01:19.990Z"
   },
   {
    "duration": 20,
    "start_time": "2022-11-04T15:01:38.314Z"
   },
   {
    "duration": 21,
    "start_time": "2022-11-04T15:01:58.587Z"
   },
   {
    "duration": 21,
    "start_time": "2022-11-04T15:03:32.754Z"
   },
   {
    "duration": 16,
    "start_time": "2022-11-04T15:04:01.070Z"
   },
   {
    "duration": 13,
    "start_time": "2022-11-04T15:04:05.895Z"
   },
   {
    "duration": 20,
    "start_time": "2022-11-04T15:05:12.454Z"
   },
   {
    "duration": 19,
    "start_time": "2022-11-04T15:05:19.452Z"
   },
   {
    "duration": 9,
    "start_time": "2022-11-04T15:05:31.005Z"
   },
   {
    "duration": 12,
    "start_time": "2022-11-04T15:19:46.840Z"
   },
   {
    "duration": 12,
    "start_time": "2022-11-04T15:20:02.873Z"
   },
   {
    "duration": 9,
    "start_time": "2022-11-04T15:22:39.399Z"
   },
   {
    "duration": 9,
    "start_time": "2022-11-04T15:22:46.070Z"
   },
   {
    "duration": 13,
    "start_time": "2022-11-04T15:22:58.426Z"
   },
   {
    "duration": 10,
    "start_time": "2022-11-04T15:23:08.455Z"
   },
   {
    "duration": 32,
    "start_time": "2022-11-04T15:23:28.179Z"
   },
   {
    "duration": 7,
    "start_time": "2022-11-04T15:23:31.602Z"
   },
   {
    "duration": 11,
    "start_time": "2022-11-04T15:23:44.611Z"
   },
   {
    "duration": 21,
    "start_time": "2022-11-04T15:24:00.124Z"
   },
   {
    "duration": 6,
    "start_time": "2022-11-04T15:25:46.343Z"
   },
   {
    "duration": 1141,
    "start_time": "2022-11-04T15:25:52.427Z"
   },
   {
    "duration": 101,
    "start_time": "2022-11-04T15:25:53.570Z"
   },
   {
    "duration": 14,
    "start_time": "2022-11-04T15:25:53.672Z"
   },
   {
    "duration": 14,
    "start_time": "2022-11-04T15:25:53.688Z"
   },
   {
    "duration": 66,
    "start_time": "2022-11-04T15:25:53.704Z"
   },
   {
    "duration": 8,
    "start_time": "2022-11-04T15:25:53.772Z"
   },
   {
    "duration": 11,
    "start_time": "2022-11-04T15:25:53.782Z"
   },
   {
    "duration": 12,
    "start_time": "2022-11-04T15:25:53.795Z"
   },
   {
    "duration": 15,
    "start_time": "2022-11-04T15:25:53.809Z"
   },
   {
    "duration": 6,
    "start_time": "2022-11-04T15:25:53.826Z"
   },
   {
    "duration": 6,
    "start_time": "2022-11-04T15:25:53.835Z"
   },
   {
    "duration": 13,
    "start_time": "2022-11-04T15:25:53.845Z"
   },
   {
    "duration": 15,
    "start_time": "2022-11-04T15:25:53.860Z"
   },
   {
    "duration": 7,
    "start_time": "2022-11-04T15:25:53.878Z"
   },
   {
    "duration": 333,
    "start_time": "2022-11-04T15:25:53.887Z"
   },
   {
    "duration": 334,
    "start_time": "2022-11-04T15:25:54.222Z"
   },
   {
    "duration": 252,
    "start_time": "2022-11-04T15:25:54.559Z"
   },
   {
    "duration": 403,
    "start_time": "2022-11-04T15:25:54.813Z"
   },
   {
    "duration": 283,
    "start_time": "2022-11-04T15:25:55.218Z"
   },
   {
    "duration": 369,
    "start_time": "2022-11-04T15:25:55.503Z"
   },
   {
    "duration": 9,
    "start_time": "2022-11-04T15:25:55.873Z"
   },
   {
    "duration": 201,
    "start_time": "2022-11-04T15:25:55.884Z"
   },
   {
    "duration": 5,
    "start_time": "2022-11-04T15:25:56.087Z"
   },
   {
    "duration": 183,
    "start_time": "2022-11-04T15:25:56.094Z"
   },
   {
    "duration": 4,
    "start_time": "2022-11-04T15:25:56.279Z"
   },
   {
    "duration": 508,
    "start_time": "2022-11-04T15:25:56.285Z"
   },
   {
    "duration": 22,
    "start_time": "2022-11-04T15:25:56.796Z"
   },
   {
    "duration": 29,
    "start_time": "2022-11-04T15:25:56.820Z"
   },
   {
    "duration": 173,
    "start_time": "2022-11-04T15:25:56.851Z"
   },
   {
    "duration": 362,
    "start_time": "2022-11-04T15:25:57.026Z"
   },
   {
    "duration": 27,
    "start_time": "2022-11-04T15:25:57.390Z"
   },
   {
    "duration": 33,
    "start_time": "2022-11-04T15:25:57.419Z"
   },
   {
    "duration": 236,
    "start_time": "2022-11-04T15:31:04.170Z"
   },
   {
    "duration": 314,
    "start_time": "2022-11-04T15:31:28.449Z"
   },
   {
    "duration": 373,
    "start_time": "2022-11-04T15:31:55.898Z"
   },
   {
    "duration": 261,
    "start_time": "2022-11-04T15:32:17.243Z"
   },
   {
    "duration": 355,
    "start_time": "2022-11-04T15:32:36.047Z"
   },
   {
    "duration": 187,
    "start_time": "2022-11-04T15:32:56.462Z"
   },
   {
    "duration": 170,
    "start_time": "2022-11-04T15:33:16.332Z"
   },
   {
    "duration": 342,
    "start_time": "2022-11-04T15:39:03.865Z"
   },
   {
    "duration": 370,
    "start_time": "2022-11-04T15:39:10.091Z"
   },
   {
    "duration": 89,
    "start_time": "2022-11-04T15:45:25.586Z"
   },
   {
    "duration": 20,
    "start_time": "2022-11-04T15:45:59.865Z"
   },
   {
    "duration": 23,
    "start_time": "2022-11-04T15:46:19.559Z"
   },
   {
    "duration": 32,
    "start_time": "2022-11-04T15:46:31.125Z"
   },
   {
    "duration": 12,
    "start_time": "2022-11-04T15:47:12.550Z"
   },
   {
    "duration": 168,
    "start_time": "2022-11-04T15:49:54.641Z"
   },
   {
    "duration": 22,
    "start_time": "2022-11-04T15:51:21.333Z"
   },
   {
    "duration": 1142,
    "start_time": "2022-11-05T14:45:53.891Z"
   },
   {
    "duration": 127,
    "start_time": "2022-11-05T14:45:55.035Z"
   },
   {
    "duration": 11,
    "start_time": "2022-11-05T14:45:55.164Z"
   },
   {
    "duration": 9,
    "start_time": "2022-11-05T14:45:55.177Z"
   },
   {
    "duration": 148,
    "start_time": "2022-11-05T14:45:55.187Z"
   },
   {
    "duration": 6,
    "start_time": "2022-11-05T14:45:55.337Z"
   },
   {
    "duration": 11,
    "start_time": "2022-11-05T14:45:55.345Z"
   },
   {
    "duration": 10,
    "start_time": "2022-11-05T14:45:55.358Z"
   },
   {
    "duration": 13,
    "start_time": "2022-11-05T14:45:55.370Z"
   },
   {
    "duration": 5,
    "start_time": "2022-11-05T14:45:55.385Z"
   },
   {
    "duration": 8,
    "start_time": "2022-11-05T14:45:55.391Z"
   },
   {
    "duration": 9,
    "start_time": "2022-11-05T14:45:55.421Z"
   },
   {
    "duration": 10,
    "start_time": "2022-11-05T14:45:55.432Z"
   },
   {
    "duration": 6,
    "start_time": "2022-11-05T14:45:55.443Z"
   },
   {
    "duration": 301,
    "start_time": "2022-11-05T14:45:55.450Z"
   },
   {
    "duration": 262,
    "start_time": "2022-11-05T14:45:55.752Z"
   },
   {
    "duration": 188,
    "start_time": "2022-11-05T14:45:56.021Z"
   },
   {
    "duration": 369,
    "start_time": "2022-11-05T14:45:56.210Z"
   },
   {
    "duration": 200,
    "start_time": "2022-11-05T14:45:56.581Z"
   },
   {
    "duration": 309,
    "start_time": "2022-11-05T14:45:56.782Z"
   },
   {
    "duration": 8,
    "start_time": "2022-11-05T14:45:57.093Z"
   },
   {
    "duration": 156,
    "start_time": "2022-11-05T14:45:57.103Z"
   },
   {
    "duration": 4,
    "start_time": "2022-11-05T14:45:57.260Z"
   },
   {
    "duration": 145,
    "start_time": "2022-11-05T14:45:57.265Z"
   },
   {
    "duration": 4,
    "start_time": "2022-11-05T14:45:57.412Z"
   },
   {
    "duration": 415,
    "start_time": "2022-11-05T14:45:57.422Z"
   },
   {
    "duration": 21,
    "start_time": "2022-11-05T14:45:57.839Z"
   },
   {
    "duration": 9,
    "start_time": "2022-11-05T14:45:57.862Z"
   },
   {
    "duration": 130,
    "start_time": "2022-11-05T14:45:57.873Z"
   },
   {
    "duration": 319,
    "start_time": "2022-11-05T14:45:58.004Z"
   },
   {
    "duration": 26,
    "start_time": "2022-11-05T14:45:58.325Z"
   },
   {
    "duration": 13,
    "start_time": "2022-11-05T14:45:58.353Z"
   },
   {
    "duration": 51,
    "start_time": "2022-11-15T14:54:26.050Z"
   },
   {
    "duration": 7,
    "start_time": "2022-11-15T14:54:33.365Z"
   },
   {
    "duration": 922,
    "start_time": "2022-11-15T14:54:44.897Z"
   },
   {
    "duration": 138,
    "start_time": "2022-11-15T14:54:45.821Z"
   },
   {
    "duration": 11,
    "start_time": "2022-11-15T14:54:45.960Z"
   },
   {
    "duration": 18,
    "start_time": "2022-11-15T14:54:45.973Z"
   },
   {
    "duration": 180,
    "start_time": "2022-11-15T14:54:45.993Z"
   },
   {
    "duration": 7,
    "start_time": "2022-11-15T14:54:46.175Z"
   },
   {
    "duration": 17,
    "start_time": "2022-11-15T14:54:46.183Z"
   },
   {
    "duration": 13,
    "start_time": "2022-11-15T14:54:46.202Z"
   },
   {
    "duration": 21,
    "start_time": "2022-11-15T14:54:46.217Z"
   },
   {
    "duration": 20,
    "start_time": "2022-11-15T14:54:46.242Z"
   },
   {
    "duration": 27,
    "start_time": "2022-11-15T14:54:46.263Z"
   },
   {
    "duration": 21,
    "start_time": "2022-11-15T14:54:46.291Z"
   },
   {
    "duration": 20,
    "start_time": "2022-11-15T14:54:46.314Z"
   },
   {
    "duration": 22,
    "start_time": "2022-11-15T14:54:46.336Z"
   },
   {
    "duration": 321,
    "start_time": "2022-11-15T14:54:46.360Z"
   },
   {
    "duration": 329,
    "start_time": "2022-11-15T14:54:46.683Z"
   },
   {
    "duration": 224,
    "start_time": "2022-11-15T14:54:47.014Z"
   },
   {
    "duration": 324,
    "start_time": "2022-11-15T14:54:47.240Z"
   },
   {
    "duration": 9,
    "start_time": "2022-11-15T14:54:47.565Z"
   },
   {
    "duration": 221,
    "start_time": "2022-11-15T14:54:47.575Z"
   },
   {
    "duration": 356,
    "start_time": "2022-11-15T14:54:47.798Z"
   },
   {
    "duration": 8,
    "start_time": "2022-11-15T14:54:48.156Z"
   },
   {
    "duration": 179,
    "start_time": "2022-11-15T14:54:48.166Z"
   },
   {
    "duration": 4,
    "start_time": "2022-11-15T14:54:48.347Z"
   },
   {
    "duration": 178,
    "start_time": "2022-11-15T14:54:48.353Z"
   },
   {
    "duration": 5,
    "start_time": "2022-11-15T14:54:48.532Z"
   },
   {
    "duration": 515,
    "start_time": "2022-11-15T14:54:48.539Z"
   },
   {
    "duration": 25,
    "start_time": "2022-11-15T14:54:49.059Z"
   },
   {
    "duration": 6,
    "start_time": "2022-11-15T14:54:49.086Z"
   },
   {
    "duration": 37,
    "start_time": "2022-11-15T14:54:49.093Z"
   },
   {
    "duration": 145,
    "start_time": "2022-11-15T14:54:49.132Z"
   },
   {
    "duration": 336,
    "start_time": "2022-11-15T14:54:49.279Z"
   },
   {
    "duration": 31,
    "start_time": "2022-11-15T14:54:49.617Z"
   },
   {
    "duration": 35,
    "start_time": "2022-11-15T14:54:49.650Z"
   },
   {
    "duration": 4,
    "start_time": "2022-11-15T14:55:07.520Z"
   },
   {
    "duration": 5,
    "start_time": "2022-11-15T14:55:19.440Z"
   },
   {
    "duration": 1017,
    "start_time": "2022-11-16T04:11:28.516Z"
   },
   {
    "duration": 112,
    "start_time": "2022-11-16T04:11:29.535Z"
   },
   {
    "duration": 11,
    "start_time": "2022-11-16T04:11:29.649Z"
   },
   {
    "duration": 10,
    "start_time": "2022-11-16T04:11:29.661Z"
   },
   {
    "duration": 130,
    "start_time": "2022-11-16T04:11:29.672Z"
   },
   {
    "duration": 7,
    "start_time": "2022-11-16T04:11:29.804Z"
   },
   {
    "duration": 16,
    "start_time": "2022-11-16T04:11:29.812Z"
   },
   {
    "duration": 12,
    "start_time": "2022-11-16T04:11:29.829Z"
   },
   {
    "duration": 13,
    "start_time": "2022-11-16T04:11:29.842Z"
   },
   {
    "duration": 5,
    "start_time": "2022-11-16T04:11:29.858Z"
   },
   {
    "duration": 7,
    "start_time": "2022-11-16T04:11:29.864Z"
   },
   {
    "duration": 8,
    "start_time": "2022-11-16T04:11:29.872Z"
   },
   {
    "duration": 34,
    "start_time": "2022-11-16T04:11:29.882Z"
   },
   {
    "duration": 6,
    "start_time": "2022-11-16T04:11:29.918Z"
   },
   {
    "duration": 301,
    "start_time": "2022-11-16T04:11:29.925Z"
   },
   {
    "duration": 357,
    "start_time": "2022-11-16T04:11:30.228Z"
   },
   {
    "duration": 210,
    "start_time": "2022-11-16T04:11:30.587Z"
   },
   {
    "duration": 344,
    "start_time": "2022-11-16T04:11:30.799Z"
   },
   {
    "duration": 9,
    "start_time": "2022-11-16T04:11:31.145Z"
   },
   {
    "duration": 245,
    "start_time": "2022-11-16T04:11:31.156Z"
   },
   {
    "duration": 319,
    "start_time": "2022-11-16T04:11:31.402Z"
   },
   {
    "duration": 9,
    "start_time": "2022-11-16T04:11:31.723Z"
   },
   {
    "duration": 170,
    "start_time": "2022-11-16T04:11:31.735Z"
   },
   {
    "duration": 5,
    "start_time": "2022-11-16T04:11:31.912Z"
   },
   {
    "duration": 149,
    "start_time": "2022-11-16T04:11:31.918Z"
   },
   {
    "duration": 5,
    "start_time": "2022-11-16T04:11:32.068Z"
   },
   {
    "duration": 438,
    "start_time": "2022-11-16T04:11:32.075Z"
   },
   {
    "duration": 14,
    "start_time": "2022-11-16T04:11:32.516Z"
   },
   {
    "duration": 25,
    "start_time": "2022-11-16T04:11:32.531Z"
   },
   {
    "duration": 13,
    "start_time": "2022-11-16T04:11:32.558Z"
   },
   {
    "duration": 129,
    "start_time": "2022-11-16T04:11:32.573Z"
   },
   {
    "duration": 324,
    "start_time": "2022-11-16T04:11:32.704Z"
   },
   {
    "duration": 19,
    "start_time": "2022-11-16T04:11:33.029Z"
   },
   {
    "duration": 11,
    "start_time": "2022-11-16T04:11:33.050Z"
   },
   {
    "duration": 6,
    "start_time": "2022-11-16T04:12:39.151Z"
   }
  ],
  "kernelspec": {
   "display_name": "Python 3 (ipykernel)",
   "language": "python",
   "name": "python3"
  },
  "language_info": {
   "codemirror_mode": {
    "name": "ipython",
    "version": 3
   },
   "file_extension": ".py",
   "mimetype": "text/x-python",
   "name": "python",
   "nbconvert_exporter": "python",
   "pygments_lexer": "ipython3",
   "version": "3.9.13"
  },
  "toc": {
   "base_numbering": 1,
   "nav_menu": {},
   "number_sections": true,
   "sideBar": true,
   "skip_h1_title": true,
   "title_cell": "Table of Contents",
   "title_sidebar": "Contents",
   "toc_cell": false,
   "toc_position": {},
   "toc_section_display": true,
   "toc_window_display": false
  }
 },
 "nbformat": 4,
 "nbformat_minor": 2
}
